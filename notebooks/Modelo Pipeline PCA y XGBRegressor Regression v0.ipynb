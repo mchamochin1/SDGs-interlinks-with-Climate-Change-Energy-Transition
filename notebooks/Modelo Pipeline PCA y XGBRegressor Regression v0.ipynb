{
 "cells": [
  {
   "cell_type": "markdown",
   "metadata": {},
   "source": [
    "We can use principal component analysis (PCA) for the following purposes:\n",
    "* To reduce the number of dimensions in the dataset.\n",
    "* To find patterns in the high-dimensional dataset\n",
    "\n",
    "**Eigenvectors and eigenvalues**\n",
    "The eigenvectors and eigenvalues ​​of a covariance matrix (or correlation) describe the source of the PCA. Eigenvectors (main components) determine the direction of the new attribute space, and eigenvalues ​​determine its magnitude."
   ]
  },
  {
   "cell_type": "code",
   "execution_count": 10,
   "metadata": {},
   "outputs": [],
   "source": [
    "# Import the required variables\n",
    "import pandas as pd\n",
    "import numpy as np\n",
    "from sklearn.decomposition import PCA\n",
    "from sklearn.preprocessing import StandardScaler\n",
    "import matplotlib.pyplot as plt\n",
    "import seaborn as sns"
   ]
  },
  {
   "cell_type": "code",
   "execution_count": 2,
   "metadata": {},
   "outputs": [],
   "source": [
    "def warn(*args, **kwargs): pass\n",
    "import warnings\n",
    "warnings.warn = warn"
   ]
  },
  {
   "cell_type": "code",
   "execution_count": 3,
   "metadata": {},
   "outputs": [],
   "source": [
    "def num_plot(df, col, title, symb):\n",
    "    fig, ax = plt.subplots(2, 1, sharex=True, figsize=(8,5),gridspec_kw={\"height_ratios\": (.2, .8)})\n",
    "    ax[0].set_title(title,fontsize=18)\n",
    "    sns.boxplot(x=col, data=df, ax=ax[0])\n",
    "    ax[0].set(yticks=[])\n",
    "    sns.histplot(x=col, data=df, ax=ax[1])\n",
    "    ax[1].set_xlabel(col, fontsize=16)\n",
    "    plt.axvline(df[col].mean(), color='darkgreen', linewidth=2.2, label='mean=' + str(np.round(df[col].mean(),1)) + symb)\n",
    "    plt.axvline(df[col].median(), color='red', linewidth=2.2, label='median='+ str(np.round(df[col].median(),1)) + symb)\n",
    "    plt.axvline(df[col].mode()[0], color='purple', linewidth=2.2, label='mode='+ str(df[col].mode()[0]) + symb)\n",
    "    plt.legend(bbox_to_anchor=(1, 1.03), ncol=1, fontsize=17, fancybox=True, shadow=True, frameon=True)\n",
    "    plt.tight_layout()\n",
    "    plt.show()"
   ]
  },
  {
   "cell_type": "code",
   "execution_count": 4,
   "metadata": {},
   "outputs": [
    {
     "data": {
      "text/plain": [
       "<Figure size 432x288 with 0 Axes>"
      ]
     },
     "metadata": {},
     "output_type": "display_data"
    }
   ],
   "source": [
    "sns.set_style(\"whitegrid\")\n",
    "sns.despine()\n",
    "plt.style.use(\"seaborn-whitegrid\")\n",
    "plt.rc(\"figure\", autolayout=True)\n",
    "plt.rc(\"axes\", labelweight=\"bold\", labelsize=\"large\", titleweight=\"bold\", titlesize=14, titlepad=10)"
   ]
  },
  {
   "cell_type": "code",
   "execution_count": 11,
   "metadata": {},
   "outputs": [],
   "source": [
    "# Import the required variables\n",
    "import pandas as pd\n",
    "import numpy as np\n",
    "\n",
    "# Read the data\n",
    "Res_Nonhydro_Capita = pd.read_excel (\"../data/processed/Res_Nonhydro_Capita.xlsx\", index_col = 0)\n",
    "SDGs_Ranks_2021 = pd.read_excel (\"../data/processed/SDGs_Ranks_2021.xlsx\", index_col = 0)\n",
    "SDGs_Scores_2021 = pd.read_excel (\"../data/processed/SDGs_Scores_2021.xlsx\", index_col = 0)\n",
    "\n",
    "# Only consider the 2021 year\n",
    "Res_Nonhydro_Capita_2021 = Res_Nonhydro_Capita[[2021]]\n",
    "Res_Nonhydro_Capita_2021= Res_Nonhydro_Capita_2021.rename(columns={ 2021: 'Res_Nonhydro_Capita_2021'})\n",
    "\n",
    "# Do not consider the first column\n",
    "SDGs_Ranks_2021 = SDGs_Ranks_2021.iloc[:,1:]\n",
    "SDGs_Scores_2021 = SDGs_Scores_2021.iloc[:,1:]\n",
    "\n",
    "# Append the target to the Datasets\n",
    "SDGs_Ranks_2021 = pd.concat([SDGs_Ranks_2021, Res_Nonhydro_Capita_2021], axis=1)\n",
    "SDGs_Scores_2021 = pd.concat([SDGs_Scores_2021, Res_Nonhydro_Capita_2021], axis=1)"
   ]
  },
  {
   "cell_type": "markdown",
   "metadata": {},
   "source": [
    "# Conclusion - Modelo PCA XGBRegressor SDGs_Scores_2021"
   ]
  },
  {
   "cell_type": "code",
   "execution_count": 12,
   "metadata": {},
   "outputs": [],
   "source": [
    "from sklearn.model_selection import train_test_split\n",
    "from sklearn.pipeline import Pipeline\n",
    "from sklearn.model_selection import GridSearchCV\n",
    "from sklearn.preprocessing import StandardScaler\n",
    "from sklearn.decomposition import PCA\n",
    "\n",
    "from sklearn.metrics import mean_absolute_error, mean_absolute_percentage_error, mean_squared_error, r2_score\n",
    "\n",
    "\n",
    "X = SDGs_Scores_2021.drop('Res_Nonhydro_Capita_2021',1)\n",
    "y = SDGs_Scores_2021['Res_Nonhydro_Capita_2021']\n",
    "\n",
    "X_train, X_test, y_train, y_test = train_test_split(X,y,test_size=0.2,random_state=42)\n",
    "\n"
   ]
  },
  {
   "cell_type": "code",
   "execution_count": 13,
   "metadata": {},
   "outputs": [
    {
     "name": "stdout",
     "output_type": "stream",
     "text": [
      "MAE_Best 124.30026474949962 max_components_Best 2 n_estimators 7 max_depth 20 learning_rate 0.5\n"
     ]
    }
   ],
   "source": [
    "from xgboost import XGBRegressor\n",
    "from sklearn.metrics import mean_absolute_error, mean_absolute_percentage_error, mean_squared_error, r2_score\n",
    "\n",
    "\n",
    "ss = StandardScaler()\n",
    "X_train_scaled = ss.fit_transform(X_train)\n",
    "X_test_scaled = ss.transform(X_test)\n",
    "\n",
    "maxComponents = [ 1,2,3,4,5,6,7,8,9,10,11,12,13,14,15,16,17]\n",
    "list_n_estimators = [1, 2, 3, 4, 5, 6, 7, 8, 9, 10, 11, 12, 13, 14, 15, 16, 17]\n",
    "list_max_depth = [5, 10, 15, 20, 25]\n",
    "list_learning_rate = [0.01, 0.1, 0.5, 0.75, 1, 1.25, 1.5]\n",
    "n = 0\n",
    "for componentsi in maxComponents:\n",
    "    pca = PCA(n_components=componentsi, random_state=42)\n",
    "    pca.fit(X_train_scaled)\n",
    "    X_train_scaled_pca = pca.transform(X_train_scaled)\n",
    "    X_test_scaled_pca = pca.transform(X_test_scaled)\n",
    "    for n_estimatorsi in list_n_estimators:\n",
    "        for max_depthi in list_max_depth:\n",
    "            for learning_ratei in list_learning_rate:\n",
    "                xgb_reg = XGBRegressor(n_estimators=n_estimatorsi, max_depth=max_depthi, learning_rate=learning_ratei, random_state=42)\n",
    "                xgb_reg.fit(X_train_scaled_pca, y_train)\n",
    "                predictions = xgb_reg.predict(X_test_scaled_pca)\n",
    "                if (n == 0): # The first time initialize\n",
    "                    MAE_Best = mean_absolute_error(y_test, predictions)\n",
    "                    n_estimators_Best = n_estimatorsi\n",
    "                    max_depth_Best = max_depthi\n",
    "                    learning_rate_Best = learning_ratei\n",
    "                    max_components_Best = componentsi\n",
    "                else:\n",
    "                    MAE_New = mean_absolute_error(y_test, predictions)\n",
    "                    if (MAE_New < MAE_Best):\n",
    "                        MAE_Best = MAE_New\n",
    "                        n_estimators_Best = n_estimatorsi\n",
    "                        max_depth_Best = max_depthi\n",
    "                        learning_rate_Best = learning_ratei\n",
    "                        max_components_Best = componentsi\n",
    "                    else:\n",
    "                        pass\n",
    "        n +=1\n",
    "print('MAE_Best', MAE_Best, \n",
    "        'max_components_Best', max_components_Best,\n",
    "        'n_estimators', n_estimators_Best, \n",
    "        'max_depth', max_depth_Best,\n",
    "        'learning_rate', learning_rate_Best)"
   ]
  },
  {
   "cell_type": "markdown",
   "metadata": {},
   "source": [
    "# CONCLUSION PIPELINE TO SAVE"
   ]
  },
  {
   "cell_type": "code",
   "execution_count": 14,
   "metadata": {},
   "outputs": [
    {
     "name": "stdout",
     "output_type": "stream",
     "text": [
      "Train: Coeficiente de determinacion de la predicción: 0.9828559407903492\n",
      "Test: Coeficiente de determinacion de la predicción: 0.914312814311357\n"
     ]
    }
   ],
   "source": [
    "from xgboost import XGBRegressor\n",
    "\n",
    "\n",
    "pipeline = Pipeline(steps = [\n",
    "    (\"scaler\", StandardScaler()), # primero escalo\n",
    "    (\"pca\", PCA()), # segundo aplica PCA \n",
    "    (\"xGBRegressor\", XGBRegressor()) # Despues un XGBRegressor\n",
    "])\n",
    "\n",
    "pipeline_param = {\n",
    "    'pca__n_components' :  [2],\n",
    "    'pca__random_state' :  [42],\n",
    "    'xGBRegressor__n_estimators' :  [7],\n",
    "    'xGBRegressor__max_depth' :  [20],   \n",
    "    'xGBRegressor__learning_rate' :  [0.5]\n",
    "}\n",
    "\n",
    "search = GridSearchCV(pipeline, pipeline_param, cv=5).fit(X_train, y_train)\n",
    "\n",
    "print(\"Train: Coeficiente de determinacion de la predicción:\", search.best_estimator_.score(X_train, y_train))\n",
    "print(\"Test: Coeficiente de determinacion de la predicción:\", search.best_estimator_.score(X_test, y_test))"
   ]
  }
 ],
 "metadata": {
  "interpreter": {
   "hash": "a51aa54f9119d77f4708dc3cf3dc70734fc4db61920693d28419361ad838a12b"
  },
  "kernelspec": {
   "display_name": "Python 3.7.4 64-bit",
   "language": "python",
   "name": "python3"
  },
  "language_info": {
   "codemirror_mode": {
    "name": "ipython",
    "version": 3
   },
   "file_extension": ".py",
   "mimetype": "text/x-python",
   "name": "python",
   "nbconvert_exporter": "python",
   "pygments_lexer": "ipython3",
   "version": "3.7.4"
  },
  "orig_nbformat": 4
 },
 "nbformat": 4,
 "nbformat_minor": 2
}

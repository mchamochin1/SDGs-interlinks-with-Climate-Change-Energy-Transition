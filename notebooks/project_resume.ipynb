{
 "cells": [
  {
   "cell_type": "markdown",
   "metadata": {},
   "source": [
    "# 1.- Descripción de proyecto"
   ]
  },
  {
   "cell_type": "markdown",
   "metadata": {},
   "source": [
    "### 1.1 Título de proyecto"
   ]
  },
  {
   "cell_type": "markdown",
   "metadata": {},
   "source": [
    "#### *\"Conectando los Objetivos de Desarrollo Sostenible con el cambio climático y la transición energética\"*"
   ]
  },
  {
   "cell_type": "markdown",
   "metadata": {},
   "source": [
    "### 1.2 Tema"
   ]
  },
  {
   "cell_type": "markdown",
   "metadata": {},
   "source": [
    "**El cambio climático y la transición energética** hacia una economía descarbonizada es uno de los **grandes desafíos (GD) mundiales** para garantizar que nuestro planeta sobreviva. Para abordar los GD de nuestro planeta, Naciones Unidas ha definido los **Objetivos de Desarrollo Sostenible (ODS)**, un conjunto de **17 objetivos globales**. Los gobiernos del mundo han acordado que estos ODS deben alcanzarse para 2030 *(Guterres, 2019)*.\n",
    "\n",
    "El conjunto de los 17 ODS se considera uno de los marcos más efectivos para traducir los GD en objetivos que pueden gestionarse para cada país. A pesar de esta visión integral, **existen ciertos condicionantes marcados por un modelo socioeconómico-ambiental y por la situación de los países, que permiten avanzar hacia el logro de algunos ODS sin lograr otros**."
   ]
  },
  {
   "cell_type": "markdown",
   "metadata": {},
   "source": [
    "### 1.3 Objetivo\n",
    "\n",
    " **El objetivo de este proyecto es estudiar la relación de los ODS con el cambio climático y la transición energética**."
   ]
  },
  {
   "cell_type": "markdown",
   "metadata": {},
   "source": [
    "### 1.4 Datasets y fuentes alternativas de datos"
   ]
  },
  {
   "cell_type": "markdown",
   "metadata": {},
   "source": [
    "Concentramos el análisis en datos de 137 países a nivel mundial para los años 2017, 2018, 2019 y 2020 sobre los que analizaremos principalmente los 17 ODS en su relación con el cambio climático y la transición energética (9384 observaciones). \n",
    "\n",
    "Como datos se usan:\n",
    "* Los ranking de esos 137 países según los [17 ODS del Informe de Desarrollo Sostenible 2020](https://unstats.un.org/sdgs/dataportal) (Sachs et al., 2020). \n",
    "* Según la Agencia Internacional de la Energía, la energía renovable contribuye en un 80% al cambio climático y la transición energética. Por ello, se usa como variable de estudio la inversión en energía renovable (ER) en proyectos totalmente nuevos, y usamos como proxy la generación no hidroeléctrica renovable per cápita en unidades de kWh/cápita. Esta medida se emplea ampliamente en la literatura (Baldwin, Carley, Brass y MacLean, 2016; Carley, 2009; Romano y Scandurra, 2014; Romano, Scandurra, Carfora y Fodor, 2017). Los datos provienen de la base de datos de la [Agencia Internacional de la Energía](https://www.iea.org/data-and-statistics).\n",
    "* Tres posibles variables cualitativas: país, región y nivel de desarrollo país según lo define la base de datos de lso [Indicadores de Desarrollo Mundial (WDI) del Banco Mundial](https://databank.bancomundial.org/source/world-development-indicators)."
   ]
  },
  {
   "cell_type": "markdown",
   "metadata": {},
   "source": [
    "# 2.- Workflow de Machine Learning"
   ]
  },
  {
   "cell_type": "markdown",
   "metadata": {},
   "source": [
    "### 2.1 Definición del Problema"
   ]
  },
  {
   "cell_type": "markdown",
   "metadata": {},
   "source": [
    " Para dar respuesta  **al objetivo de este proyecto es estudiar la relación de los ODS con el cambio climático y la transición energética** se han realizado tres tareas principales, que agrupan tres proyectos en uno, de la sigueiente manera:\n",
    "\n",
    " 1. **PREDICCIÓN**: que da respuesta a la pregunta... ¿Existen modelos que permitan predecir el “cambio climático y transición energética” a partir de los ODS?\n",
    " 2. **SEGMENTACIÓN DE LOS ODS**: que da respuesta a la pregunta... ¿ Cuáles son los ODS mas relevantes?\n",
    " 3. **ANÁLISIS DE LOS COEFICIENTES Y DIRECCIÓN DE LAS VARIABLES DEPENDIENTES**: que da respuesta a la pregunta... ¿Ayuda un ODSs a alcanzar o impedir el “cambio climático y la transición energética” ?"
   ]
  },
  {
   "cell_type": "markdown",
   "metadata": {},
   "source": [
    "Los modelos utilizados se adecuan a las tareas principales de nuestro desarrollo (predicción, segmentación y análisis de los coeficientes y dirección de las variables dependientes).\n",
    "\n",
    "Los modelos que se han utilizado para cada una de estas tareas son los siguientes:\n",
    "\n",
    "#### 2.1.1 Predicción\n",
    "* Modelos Pipeline PCA RandomForest Regression\n",
    "* Modelos Pipeline PCA DecissionTree Regression\n",
    "* Modelo Pipeline PCA XGBRegressor Regression\n",
    "* Modelo Pipeline PCA KNN Classification\n",
    "\n",
    "#### 2.1.2 Segmentación\n",
    "* Modelos KMeans Clustering\n",
    "\n",
    "#### 2.1.3 Análisis de Coeficientes y dirección\n",
    "* Modelos Lineal Polinomial Regression \n",
    "* Modelos Support Vector Regression \n",
    "* Modelos Decission Trees Regression\n",
    "* Modelos PCAs\n",
    "* Modelo Panel Data Regression\n"
   ]
  },
  {
   "cell_type": "markdown",
   "metadata": {},
   "source": [
    "### 2.2 Recogida y limpieza de datos"
   ]
  },
  {
   "cell_type": "markdown",
   "metadata": {},
   "source": [
    "1. **Fuente de datos**: se han cargado los datos de las fuentes indicadas anteriormente.\n",
    "2. **Outliers**: los outliers no se eliminan corresponden principalmente a los países nórdicos y Alemania, potencialmente mas concienciados con el cambio climático y la transición energética.\n",
    "3. **Missings**: se aplica imputaciones basadas en una regresión lineal, respecto año anterior y posterior.\n",
    "4. **Anomalías y errores**: se controlan los valores y estan en rangos adecuados."
   ]
  },
  {
   "cell_type": "markdown",
   "metadata": {},
   "source": [
    "### 2.3 EDA"
   ]
  },
  {
   "cell_type": "markdown",
   "metadata": {},
   "source": [
    "Dadas las tareas principales de nuestro desarrollo (predicción, segmentación y análisis de los coeficientes y dirección de las variables dependientes) se utilizarán distintos modelos de regresión, clasificación, reducción de variables y clustering. \n",
    "\n",
    "Dado lo extenso del proyecto a continuación de detallan los datos más relevantes encontrados y se proporcionan algunas imagenes de elementos de interés."
   ]
  },
  {
   "cell_type": "markdown",
   "metadata": {},
   "source": [
    "1. **Datos Balanceados**: la variable target en el análisis de clasificación está balanceada. Se dicotomiza la variable target \"generación no hidroeléctrica renovable per cápita\" con la mediana, para diferenciar los países \"wealthy\" (valor 1 en el target) que tienen mayor inversión en renovables que los países \"unwealthy\" (valor 0 en el target). Nota: en los análisis de regresión se utiliza esta variable en su manera contínua.\n",
    "2. **Correlaciones**: las variables SDG15, SDG14 y SDG17 presentan una correlación < 0.2 con la variables target. Se realizan test para eliminarlas sin mejora significativa, y se decide mantienerlas para ver las interacciones con el resto de los ODSs. Los ODSs con mayor correlacion con la variable target son SDG9 = 0.46, SDG16 = 0.45, y SDG12 = -0.44. No se consideran muy altas.\n",
    "3. **Plots**: en la clasificación se detectan efectos significativos entre paises wealthy vs unwealthy con algunas de las variables dependientes. Las variables SDG1, SDG3, SDG4, SDG7, SDG9 y SDG16 presentan mas paises wealthy para sus valores altos, mientras que SDG13 y SDG3 presentan mas paises wealthy en sus valores bajos.\n",
    "\n",
    "<img src=\"./images/SDGs_en_Wealthy_Countries.png\" alt=\"drawing\" width=\"650\"/>\n",
    "\n",
    "4. **Datos**: se recogen datos de Ranking y Scores de los SDGs para los distintos años. Los datos Scores presentan mejores datos y capturan la continuidad de cada uno de los SDGs.\n",
    "5. **Skewness**: los datos no prentan una Skewness elevada. Se realizan transformaciones logaritmicas, no presentando mejora sustancial salvo en la variable y que se utiliza una transformacion logaritmica.\n"
   ]
  },
  {
   "cell_type": "markdown",
   "metadata": {},
   "source": [
    "### 2.4 MODELOS USADOS PARA LA PREDICCIÓN\n",
    "\n",
    "1. **Escalados**: se aplica el StandardScaler en los algoritmos de clustering y con los PCAs.\n",
    "2. **Métricas para clasificación**: se usa el Accuracy en los algoritmos de clasificación, al estar los datos balanceados. Se analiza el Coeficiente de determinacion de la predicción (score) en las predicciones. Se busca la reduccion del Mean Squared Error (MSE) comparar los modelos y poner foco en los errores grandes, no existen muchos outliers (5) que puedan sugerir el uso del Mean Absolute Error (MAE). \n",
    "3.- **Regularización**: Se utiliza el GridSearchCV combinada con la técnica de evaluación masiva de parámetros con blucles para facilitar la evaluación de las métricas y regularización.\n",
    "\n",
    "#### 2.4.1 REGRESIÓN\n",
    "\n",
    "**Modelo Pipeline PCA RandomForest Regression**\n",
    "* Train Split 2021 Coeficiente de determinación: 0.83\n",
    "* Test Split 2021 Coeficiente de determinación: 0.92\n",
    "Se les ha pasado en train tan sólo un 80% del año 2021. Generaliza con el resto de los años:\n",
    "* Test 2017 Coeficiente de determinación: 0.79\n",
    "* Test 2018 Coeficiente de determinación: 0.76\n",
    "* Test 2020 Coeficiente de determinación: 0.78\n",
    "\n",
    "**Modelo Pipeline PCA DecissionTree Regression**\n",
    "* Train Split 2021 Coeficiente de determinación: 1.0\n",
    "* Test Split 2021 Coeficiente de determinación: 0.9484216064860829\n",
    "Se les ha pasado en train tan sólo un 80% del año 2021. Generaliza bien en el 2021, y no adecuadamente con el resto de los años:\n",
    "* Test 2017 Coeficiente de determinación: 0.16880688640442043\n",
    "* Test 2018 Coeficiente de determinación: 0.15043052018990943\n",
    "* Test 2020 Coeficiente de determinación: 0.1906215686369176\n",
    "\n",
    "**Modelo Pipeline PCA XGBRegressor Regression**\n",
    "* Train Split 2021 Coeficiente de determinación: 0.98\n",
    "* Test Split 2021 Coeficiente de determinación: 0.91\n",
    "Se les ha pasado en train tan sólo un 80% del año 2021. Generaliza bien en el 2021, y no adecuadamente con el resto de los años:\n",
    "* Test 2017: Coeficiente de determinación : 0.18\n",
    "* Test 2018: Coeficiente de determinación: 0.16\n",
    "* Test 2020 Coeficiente de determinación: 0.22\n",
    "\n",
    "\n",
    "#### 2.4.2 CLASIFICACIÓN\n",
    "\n",
    "**Modelo Pipeline PCA k-Nearest Neighbors Classification**\n",
    "* Train Split 2021 Accuracy: 0.88\n",
    "* Test Split 2021 Accuracy: 0.82\n",
    "Se les ha pasado en train tan sólo un 80% del año 2021. Generaliza con el resto de los años:\n",
    "* Test 2017 Accuracy: 0.77\n",
    "* Test 2018 Accuracy: 0.77\n",
    "* Test 2020 Accuracy: 0.77\n",
    "\n",
    "Se proporcionan en src el código de estoss modelos, los restantes se dejan en el directorio src/notebooks. \n",
    "\n",
    "En el directorio src/model se han volcado los 4 modelos principales. Para cada uno de ellos se han generado tres ficheros con el mismo formato de los generados en la segunda entrega, es decir: \n",
    "\n",
    "        <modelname>: el modelo volcado con pickle\n",
    "        <modelname>.json: contiene un JSON con la descripción (según la 2da entrega). \n",
    "        <modelname>.csv: contiene los datos de test para la variables independientes y dependiente.\n",
    "\n",
    "En el directorio src/model se deja my_model (y sus 3 ficheros) que es el modelo elegido de **Pipeline con StandardScaler, PCA y DecissionTree Regression**. Se deja un fichero src/train.py que entrena este modelo elegido.\n"
   ]
  },
  {
   "cell_type": "markdown",
   "metadata": {},
   "source": [
    "### 2.5 MODELOS USADOS PARA LA SEGMENTACiÓN\n",
    "\n",
    "**Modelos KMeans Clustering**\n",
    "\n",
    "Se hace una división de los cuantiles de la puntuación de los paises en cada uno de los SDGS (variables dependientes) y se detecta quien tiene mas paises Wealthy en su 1er (serán los SDGs mas relevantes) y 4to quantile (serán los SDGs menos relevantes). Recordar que los países que están en tienen la categoria \"wealthy\" = 1 tienen mayor inversión en renovables (proxy aceptado por la comunidad científicaca del estado de avance del pais en “cambio climático y transición energética”). La relevancia significa que ese SDG en cuestión contribuye mas al avance del país een “cambio climático y transición energética” \n",
    "\n",
    "Los Clusters 1 y Cluster 0 presentan 43% y 54% de wealthy countries.\n",
    "* Mas relevantes: 1 Quantile SDG1, SDG4, SDG7, SDG13, SDG3.\n",
    "* Menos Relevantes: 4 Quantile SDG14, SDG17, SDG12, SDG15.\n",
    "\n",
    "En los Clusters 1, Cluster 2 y Cluster 2 se detecta: \n",
    "* Mas relevante: SDG4\n",
    "* Menos relevante: SDG17\n",
    "\n",
    "Se pueden observar los detalles en la siguiente figura:\n",
    "\n",
    "<img src=\"./images/Modelo_KMeans_Clustering.png\" alt=\"drawing\" width=\"650\"/>"
   ]
  },
  {
   "cell_type": "markdown",
   "metadata": {},
   "source": [
    "### 2.5 MODELOS USADOS PARA EL ANÁLISIS DE COEFICIENTES Y DIRECCIÓN"
   ]
  },
  {
   "cell_type": "markdown",
   "metadata": {},
   "source": [
    "Se han utilizado los siguientes modelos:\n",
    "\n",
    "**Modelos Panel data (regresión)**\n",
    "\n",
    "* ¿PORQUÉ? : usan algoritmos caja blanca adecuados para n individuos (países), donde los individuos y las variables “x” (ODSs) e “y” (“cambio climático y transición energética”) permanecen iguales a lo largo del tiempo.\n",
    "* VENTAJAS: reduce la colinealidad, captura la heterogeneidad no observable, reflejan la dinámica y causalidad de Granger (causa-efecto), etc.\n",
    "\n",
    "Dentro de esta categoria se han utilizado los siguientes modelos:\n",
    "\n",
    "* Regresión Agrupada (Pooled Regression)\n",
    "* Efectos fijos (Fixed Effects - FE)\n",
    "* Efectos aleatorios (Random Effects - RE)\n",
    "\n",
    "En nuestro caso, se violan las condiciones de (Homocedasticidad) y (No autocorrelación) por lo que no se recomienda la Regresión Agrupada. Las condiciones se han probado con una serie de tests diferentes. Para la condición Homocedasticidad, se usa el análisis gráfico. Para la heteroscedasticidad se utiliza el test de White y el test de Breusch-Pagan. Para la condición No autocorrelación, se realiza un test de Durbin-Watson.\n",
    "\n",
    "Finalmente, el modelo des Efectos fijos es el más adecuado tras realizar el test de Test de Hausman. En este caso, se ha transformado logarítmicamente la variable dependiente. Por ello, si el coeficiente de la variable dependiente fuera significativo y tuviera un valor de 0,198, por cada aumento de una unidad en la variable independiente, nuestra variable dependiente aumenta aproximadamente un 21,9% %, calculado como (e^0,198) – 1) * 100 = 21,9%.\n",
    "\n",
    "Los coeficientes estadísticamente significativos se muestran en la siguiente figura:\n",
    "\n",
    "<img src=\"Panel_Data_Coefficientes_Regression.png\" alt=\"drawing\" width=\"650\"/>\n",
    "\n",
    "**Modelo “RandomForest Regression y Modelo “XGBRegressor Regression””**\n",
    "\n",
    "Se ha examinado la feature importance y la permutation importance. Están alineados con los resultados obtenidos en previos métodos\n",
    "\n",
    "**Modelo “PCAs”**\n",
    "\n",
    "Se observa como en el PC1 se agrupa SDG12 y SDG13 (0.55 de varianza explicada). Recordemos mantienen una dirección negativa sobre nuestro target."
   ]
  },
  {
   "cell_type": "markdown",
   "metadata": {},
   "source": [
    "# 3.- Resultados y conclusiones\n",
    "\n",
    "## 3.1 TAREA DE PREDICCIÓN\n",
    "\n",
    "Es factible realizar modelos que predigan “cambio climático y transición energética” a partir de SDG. El reto global del “cambio climático y transición energética” es alcanzable.\n",
    "\n",
    "## 3.2 AREA SEGMENTACIÓN, ANÁLISIS COEFICIENTES Y DIRECCIÓN\n",
    "\n",
    "El SDG4 “Educación de Calidad” es el Objetivo MAS RELEVANTE \n",
    "\n",
    "El SDG17 “Alianzas para lograr los objetivos” que consiste en movilizar recursos para desarrollar países subdesarrollados, tiene BAJA RELEVANCIA E INGENUIDAD!. Esto implica:\n",
    "* “Gobernanza global imperfecta“: no existe contrapesos a las desigualdades entre países desarrollados y en desarrollo.\n",
    "* “Una trampa de los países no desarrollados”.\n",
    "\n",
    "En el SDG9 “Industria, innovación e infraestructura” se observa:\n",
    "* Importancia de la “aglomeración” industrial, clúster tecnológicos, etc.\n",
    "\n",
    "En el SDG12 “Producción y Consumo Responsable” y SDG13 “Acción por el Clima” se oponen al “cambio climático y transición energética”. Esto implica:\n",
    "\n",
    "* La necesidad de desvincular el SDG 12 y SDG 13 del modelo socioeconómico y ambiental actual se basa en sistemas heredados de producción y consumo de combustibles fósiles. Ejemplo1: la tasa de producción de plástico mundial basada en combustibles fósiles. Ejemplo 2: los petro-estados y subsidios a los combustibles fósiles.\n",
    "* “Falsa hipocresía“: se puede invertir en “transición energética” y estar contaminando con combustibles fósiles mucho mas en el balance neto.\n",
    "\n",
    "\n",
    "\n",
    "\n"
   ]
  },
  {
   "cell_type": "markdown",
   "metadata": {},
   "source": [
    "##### Espero que os guste....\n",
    "##### That is all folks!"
   ]
  },
  {
   "cell_type": "markdown",
   "metadata": {},
   "source": [
    "# 3. Bibliografía\n",
    "\n",
    "* *Baldwin, E., Carley, S., Brass, J. N., & MacLean, L. M. 2016. Global renewable electricity policy: A comparative policy analysis of countries by income status. Journal of Comparative Policy Analysis: Research and Practice, 19(3): 277-298.*\n",
    "* *Carley, S. 2009. State renewable energy electricity policies: An empirical evaluation of effectiveness. Energy Policy, 37(8): 3071-3081.*\n",
    "* *Guterres, A. 2019. Remarks to high-level political forum on sustainable development. 24 September 2019, United Nations Secretary General.*\n",
    "* *Romano, A. A., & Scandurra, G. 2014. Investments in renewable energy sources in OPEC members: A dynamic panel approach. Metodoloski Zvezki, 11(2): 93-106.*\n",
    "* *Romano, A. A., Scandurra, G., Carfora, A., & Fodor, M. 2017. Renewable investments: The impact of green policies in developing and developed countries. Renewable and Sustainable Energy Reviews, 68: 738-747.*\n",
    "* *Sachs, J., Schmidt-Traub, G., Kroll, C., Lafortune, G., & Fuller, G. 2020. The sustainable development goals and COVID-19. Sustainable development report 2020. Cambridge: Cambridge University Press.*"
   ]
  }
 ],
 "metadata": {
  "language_info": {
   "name": "python"
  },
  "orig_nbformat": 4
 },
 "nbformat": 4,
 "nbformat_minor": 2
}

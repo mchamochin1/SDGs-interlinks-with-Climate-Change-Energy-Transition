{
 "cells": [
  {
   "cell_type": "markdown",
   "metadata": {},
   "source": [
    "We can use principal component analysis (PCA) for the following purposes:\n",
    "* To reduce the number of dimensions in the dataset.\n",
    "* To find patterns in the high-dimensional dataset\n",
    "\n",
    "**Eigenvectors and eigenvalues**\n",
    "The eigenvectors and eigenvalues ​​of a covariance matrix (or correlation) describe the source of the PCA. Eigenvectors (main components) determine the direction of the new attribute space, and eigenvalues ​​determine its magnitude."
   ]
  },
  {
   "cell_type": "code",
   "execution_count": 19,
   "metadata": {},
   "outputs": [],
   "source": [
    "# Import the required variables\n",
    "import pandas as pd\n",
    "import numpy as np\n",
    "from sklearn.decomposition import PCA\n",
    "from sklearn.preprocessing import StandardScaler\n",
    "import matplotlib.pyplot as plt\n",
    "import seaborn as sns"
   ]
  },
  {
   "cell_type": "code",
   "execution_count": 20,
   "metadata": {},
   "outputs": [],
   "source": [
    "def warn(*args, **kwargs): pass\n",
    "import warnings\n",
    "warnings.warn = warn"
   ]
  },
  {
   "cell_type": "code",
   "execution_count": 21,
   "metadata": {},
   "outputs": [],
   "source": [
    "def num_plot(df, col, title, symb):\n",
    "    fig, ax = plt.subplots(2, 1, sharex=True, figsize=(8,5),gridspec_kw={\"height_ratios\": (.2, .8)})\n",
    "    ax[0].set_title(title,fontsize=18)\n",
    "    sns.boxplot(x=col, data=df, ax=ax[0])\n",
    "    ax[0].set(yticks=[])\n",
    "    sns.histplot(x=col, data=df, ax=ax[1])\n",
    "    ax[1].set_xlabel(col, fontsize=16)\n",
    "    plt.axvline(df[col].mean(), color='darkgreen', linewidth=2.2, label='mean=' + str(np.round(df[col].mean(),1)) + symb)\n",
    "    plt.axvline(df[col].median(), color='red', linewidth=2.2, label='median='+ str(np.round(df[col].median(),1)) + symb)\n",
    "    plt.axvline(df[col].mode()[0], color='purple', linewidth=2.2, label='mode='+ str(df[col].mode()[0]) + symb)\n",
    "    plt.legend(bbox_to_anchor=(1, 1.03), ncol=1, fontsize=17, fancybox=True, shadow=True, frameon=True)\n",
    "    plt.tight_layout()\n",
    "    plt.show()"
   ]
  },
  {
   "cell_type": "code",
   "execution_count": 22,
   "metadata": {},
   "outputs": [
    {
     "data": {
      "text/plain": [
       "<Figure size 432x288 with 0 Axes>"
      ]
     },
     "metadata": {},
     "output_type": "display_data"
    }
   ],
   "source": [
    "sns.set_style(\"whitegrid\")\n",
    "sns.despine()\n",
    "plt.style.use(\"seaborn-whitegrid\")\n",
    "plt.rc(\"figure\", autolayout=True)\n",
    "plt.rc(\"axes\", labelweight=\"bold\", labelsize=\"large\", titleweight=\"bold\", titlesize=14, titlepad=10)"
   ]
  },
  {
   "cell_type": "code",
   "execution_count": 23,
   "metadata": {},
   "outputs": [],
   "source": [
    "# Import the required variables\n",
    "import pandas as pd\n",
    "import numpy as np\n",
    "\n",
    "# Read the data\n",
    "Res_Nonhydro_Capita = pd.read_excel (\"../data/processed/Res_Nonhydro_Capita.xlsx\", index_col = 0)\n",
    "SDGs_Ranks_2021 = pd.read_excel (\"../data/processed/SDGs_Ranks_2021.xlsx\", index_col = 0)\n",
    "SDGs_Scores_2021 = pd.read_excel (\"../data/processed/SDGs_Scores_2021.xlsx\", index_col = 0)\n",
    "\n",
    "# Only consider the 2021 year\n",
    "Res_Nonhydro_Capita_2021 = Res_Nonhydro_Capita[[2021]]\n",
    "Res_Nonhydro_Capita_2021= Res_Nonhydro_Capita_2021.rename(columns={ 2021: 'Res_Nonhydro_Capita_2021'})\n",
    "\n",
    "# Do not consider the first column\n",
    "SDGs_Ranks_2021 = SDGs_Ranks_2021.iloc[:,1:]\n",
    "SDGs_Scores_2021 = SDGs_Scores_2021.iloc[:,1:]\n",
    "\n",
    "# Append the target to the Datasets\n",
    "SDGs_Ranks_2021 = pd.concat([SDGs_Ranks_2021, Res_Nonhydro_Capita_2021], axis=1)\n",
    "SDGs_Scores_2021 = pd.concat([SDGs_Scores_2021, Res_Nonhydro_Capita_2021], axis=1)"
   ]
  },
  {
   "cell_type": "markdown",
   "metadata": {},
   "source": [
    "# Conclusion - Modelo PCA DecisionTreeRegressor SDGs_Scores_2021"
   ]
  },
  {
   "cell_type": "code",
   "execution_count": 24,
   "metadata": {},
   "outputs": [],
   "source": [
    "from sklearn.tree import DecisionTreeRegressor\n",
    "from sklearn.model_selection import train_test_split\n",
    "from sklearn.pipeline import Pipeline\n",
    "from sklearn.model_selection import GridSearchCV\n",
    "from sklearn.preprocessing import StandardScaler\n",
    "from sklearn.decomposition import PCA\n",
    "\n",
    "from sklearn.metrics import mean_absolute_error, mean_absolute_percentage_error, mean_squared_error, r2_score\n",
    "\n",
    "\n",
    "# X = SDGs_Ranks_2021.drop('Res_Nonhydro_Capita_2021',1)\n",
    "# y = SDGs_Ranks_2021['Res_Nonhydro_Capita_2021']\n",
    "\n",
    "X = SDGs_Scores_2021.drop('Res_Nonhydro_Capita_2021',1)\n",
    "y = SDGs_Scores_2021['Res_Nonhydro_Capita_2021']\n",
    "\n",
    "X_train, X_test, y_train, y_test = train_test_split(X,y,test_size=0.2,random_state=42)\n",
    "\n"
   ]
  },
  {
   "cell_type": "code",
   "execution_count": 25,
   "metadata": {},
   "outputs": [
    {
     "name": "stdout",
     "output_type": "stream",
     "text": [
      "MAE_Best 121.81291854595497 max_components_Best 2 max_depth_Best 20 max_features_Best 0.058823529411764705\n"
     ]
    }
   ],
   "source": [
    "ss = StandardScaler()\n",
    "X_train_scaled = ss.fit_transform(X_train)\n",
    "X_test_scaled = ss.transform(X_test)\n",
    "#y_train = np.array(y_train)\n",
    "\n",
    "maxComponents = [ 1,2,3,4,5,6,7,8,9,10,11,12,13,14,15,16,17]\n",
    "maxDepth = [ 2, 3, 5, 10, 20, 30, 40]\n",
    "#maxFeatures = [ 1,2,3,4,5,6,7,8,9,10,11,12,13,14,15,16,17]\n",
    "maxFeatures = [ (1/17), (2/17), (3/17), (4/17), (5/17), (6/17), (7/17), (8/17), (9/17), (10/17), (11/17), (12/17), (13/17), (14/17), (15/17), (16/17), (17/17)]\n",
    "\n",
    "n = 0\n",
    "for componentsi in maxComponents:\n",
    "    pca = PCA(n_components=componentsi, random_state=42)\n",
    "    pca.fit(X_train_scaled)\n",
    "    X_train_scaled_pca = pca.transform(X_train_scaled)\n",
    "    X_test_scaled_pca = pca.transform(X_test_scaled)\n",
    "    for depthi in maxDepth:\n",
    "        for featuresi in maxFeatures:\n",
    "            dtr = DecisionTreeRegressor(max_depth = depthi, max_features = featuresi, random_state=42)\n",
    "            dtr.fit(X_train_scaled_pca, y_train)\n",
    "            y_pred = dtr.predict(X_test_scaled_pca)\n",
    "            if (n == 0): # The first time initialize\n",
    "                MAE_Best = mean_absolute_error(y_test, y_pred)\n",
    "                max_components_Best = componentsi\n",
    "                max_depth_Best = depthi\n",
    "                max_features_Best = featuresi\n",
    "            else:\n",
    "                MAE_New = mean_absolute_error(y_test, y_pred)\n",
    "                if (MAE_New < MAE_Best):\n",
    "                    MAE_Best = MAE_New\n",
    "                    max_components_Best = componentsi\n",
    "                    max_depth_Best = depthi\n",
    "                    max_features_Best = featuresi\n",
    "                else:\n",
    "                    pass\n",
    "        n +=1\n",
    "print('MAE_Best', MAE_Best, 'max_components_Best', max_components_Best, 'max_depth_Best', max_depth_Best, 'max_features_Best', max_features_Best)"
   ]
  },
  {
   "cell_type": "code",
   "execution_count": 26,
   "metadata": {},
   "outputs": [
    {
     "name": "stdout",
     "output_type": "stream",
     "text": [
      "Coeficiente determinación Train: 1.0\n",
      "MAE Train: 0.0\n",
      "MAPE Train: 0.0\n",
      "MSE Train: 0.0\n",
      "RMSE Train: 0.0\n",
      "--------------------\n",
      "Coeficiente determinación Test: 0.9484216064860829\n",
      "MAE Test: 121.81291854595497\n",
      "MAPE Test: 668112263044942.8\n",
      "MSE Test: 36610.13147465146\n",
      "RMSE Test: 191.3377418980674\n"
     ]
    },
    {
     "data": {
      "text/plain": [
       "<Figure size 1440x1440 with 0 Axes>"
      ]
     },
     "metadata": {},
     "output_type": "display_data"
    },
    {
     "data": {
      "image/png": "[encoded data removed]",
      "text/plain": [
       "<Figure size 1152x144 with 2 Axes>"
      ]
     },
     "metadata": {},
     "output_type": "display_data"
    }
   ],
   "source": [
    "import matplotlib.pyplot as plt\n",
    "\n",
    "ss = StandardScaler()\n",
    "X_train_scaled = ss.fit_transform(X_train)\n",
    "X_test_scaled = ss.transform(X_test)\n",
    "#y_train = np.array(y_train)\n",
    "\n",
    "pca = PCA(n_components=2, random_state=42)\n",
    "pca.fit(X_train_scaled)\n",
    "X_train_scaled_pca = pca.transform(X_train_scaled)\n",
    "X_test_scaled_pca = pca.transform(X_test_scaled)\n",
    "dtr = DecisionTreeRegressor(max_depth = 20, max_features = 0.058823529411764705, random_state=42)\n",
    "dtr.fit(X_train_scaled_pca, y_train)\n",
    "y_pred = dtr.predict(X_test_scaled_pca)\n",
    "\n",
    "print(\"Coeficiente determinación Train:\", r2_score(y_train, dtr.predict(X_train_scaled_pca)))\n",
    "print(\"MAE Train:\", mean_absolute_error(y_train, dtr.predict(X_train_scaled_pca)))\n",
    "print(\"MAPE Train:\", mean_absolute_percentage_error(y_train, dtr.predict(X_train_scaled_pca)))\n",
    "print(\"MSE Train:\", mean_squared_error(y_train, dtr.predict(X_train_scaled_pca)))\n",
    "print(\"RMSE Train:\", np.sqrt(mean_squared_error(y_train, dtr.predict(X_train_scaled_pca))))\n",
    "\n",
    "print('-'*20)\n",
    "\n",
    "print(\"Coeficiente determinación Test:\", r2_score(y_test, y_pred))\n",
    "print(\"MAE Test:\", mean_absolute_error(y_test, y_pred))\n",
    "print(\"MAPE Test:\", mean_absolute_percentage_error(y_test, y_pred))\n",
    "print(\"MSE Test:\", mean_squared_error(y_test, y_pred))\n",
    "print(\"RMSE Test:\", np.sqrt(mean_squared_error(y_test, y_pred)))\n",
    "\n",
    "plt.figure(figsize=(20,20))\n",
    "plt.matshow(pca.components_[0:13], cmap='viridis')\n",
    "\n",
    "plt.yticks([0,1],\n",
    "            ['PC1', 'PC2'], \n",
    "            fontsize=12)\n",
    "\n",
    "# plt.yticks([0,1,2,3,4,5,6,7,8,9,10,11,12],\n",
    "#             ['PC1', 'PC2', 'PC3', 'PC4', 'PC5', 'PC6', 'PC7', 'PC8', 'PC9', 'PC10', 'PC11', 'PC12', 'PC13'], \n",
    "#             fontsize=12)\n",
    "plt.colorbar()\n",
    "plt.xticks(range(len(X.columns)), X.columns, fontsize=12, rotation = 65)\n",
    "plt.show();"
   ]
  },
  {
   "cell_type": "code",
   "execution_count": 17,
   "metadata": {},
   "outputs": [
    {
     "data": {
      "text/html": [
       "<div>\n",
       "<style scoped>\n",
       "    .dataframe tbody tr th:only-of-type {\n",
       "        vertical-align: middle;\n",
       "    }\n",
       "\n",
       "    .dataframe tbody tr th {\n",
       "        vertical-align: top;\n",
       "    }\n",
       "\n",
       "    .dataframe thead th {\n",
       "        text-align: right;\n",
       "    }\n",
       "</style>\n",
       "<table border=\"1\" class=\"dataframe\">\n",
       "  <thead>\n",
       "    <tr style=\"text-align: right;\">\n",
       "      <th></th>\n",
       "      <th>SDG1</th>\n",
       "      <th>SDG2</th>\n",
       "      <th>SDG3</th>\n",
       "      <th>SDG4</th>\n",
       "      <th>SDG5</th>\n",
       "      <th>SDG6</th>\n",
       "      <th>SDG7</th>\n",
       "      <th>SDG8</th>\n",
       "      <th>SDG9</th>\n",
       "      <th>SDG10</th>\n",
       "      <th>SDG11</th>\n",
       "      <th>SDG12</th>\n",
       "      <th>SDG13</th>\n",
       "      <th>SDG14</th>\n",
       "      <th>SDG15</th>\n",
       "      <th>SDG16</th>\n",
       "      <th>SDG17</th>\n",
       "    </tr>\n",
       "  </thead>\n",
       "  <tbody>\n",
       "    <tr>\n",
       "      <th>PC1</th>\n",
       "      <td>-0.273750</td>\n",
       "      <td>-0.190288</td>\n",
       "      <td>-0.310398</td>\n",
       "      <td>-0.278132</td>\n",
       "      <td>-0.237463</td>\n",
       "      <td>-0.288685</td>\n",
       "      <td>-0.260926</td>\n",
       "      <td>-0.260133</td>\n",
       "      <td>-0.295507</td>\n",
       "      <td>-0.148754</td>\n",
       "      <td>-0.289288</td>\n",
       "      <td>0.259006</td>\n",
       "      <td>0.247383</td>\n",
       "      <td>0.002093</td>\n",
       "      <td>-0.089634</td>\n",
       "      <td>-0.282267</td>\n",
       "      <td>-0.174735</td>\n",
       "    </tr>\n",
       "    <tr>\n",
       "      <th>PC2</th>\n",
       "      <td>-0.205172</td>\n",
       "      <td>-0.026922</td>\n",
       "      <td>-0.076168</td>\n",
       "      <td>-0.271237</td>\n",
       "      <td>-0.091786</td>\n",
       "      <td>-0.060719</td>\n",
       "      <td>-0.301088</td>\n",
       "      <td>0.179903</td>\n",
       "      <td>0.110900</td>\n",
       "      <td>0.527193</td>\n",
       "      <td>-0.123259</td>\n",
       "      <td>-0.149813</td>\n",
       "      <td>-0.179352</td>\n",
       "      <td>0.145740</td>\n",
       "      <td>0.542473</td>\n",
       "      <td>0.193330</td>\n",
       "      <td>-0.172480</td>\n",
       "    </tr>\n",
       "  </tbody>\n",
       "</table>\n",
       "</div>"
      ],
      "text/plain": [
       "         SDG1      SDG2      SDG3      SDG4      SDG5      SDG6      SDG7  \\\n",
       "PC1 -0.273750 -0.190288 -0.310398 -0.278132 -0.237463 -0.288685 -0.260926   \n",
       "PC2 -0.205172 -0.026922 -0.076168 -0.271237 -0.091786 -0.060719 -0.301088   \n",
       "\n",
       "         SDG8      SDG9     SDG10     SDG11     SDG12     SDG13     SDG14  \\\n",
       "PC1 -0.260133 -0.295507 -0.148754 -0.289288  0.259006  0.247383  0.002093   \n",
       "PC2  0.179903  0.110900  0.527193 -0.123259 -0.149813 -0.179352  0.145740   \n",
       "\n",
       "        SDG15     SDG16     SDG17  \n",
       "PC1 -0.089634 -0.282267 -0.174735  \n",
       "PC2  0.542473  0.193330 -0.172480  "
      ]
     },
     "execution_count": 17,
     "metadata": {},
     "output_type": "execute_result"
    }
   ],
   "source": [
    "pd.DataFrame(data=pca.components_[0:13], columns=X.columns, index=['PC1', 'PC2'])"
   ]
  },
  {
   "cell_type": "markdown",
   "metadata": {},
   "source": [
    "# Conclusion Pipeline to Save"
   ]
  },
  {
   "cell_type": "code",
   "execution_count": 18,
   "metadata": {},
   "outputs": [
    {
     "name": "stdout",
     "output_type": "stream",
     "text": [
      "Train: Coeficiente de determinacion de la predicción: 1.0\n",
      "Test: Coeficiente de determinacion de la predicción: 0.9484216064860829\n"
     ]
    }
   ],
   "source": [
    "pipeline = Pipeline(steps = [\n",
    "    (\"scaler\", StandardScaler()), # primero escalo\n",
    "    (\"pca\", PCA()), # segundo aplica PCA \n",
    "    (\"decisionTreeRegressor\", DecisionTreeRegressor()) # Despues un DecisionTreeRegressor\n",
    "])\n",
    "\n",
    "pipeline_param = {\n",
    "    'pca__n_components' :  [2],\n",
    "    'pca__random_state' :  [42],\n",
    "    'decisionTreeRegressor__max_depth' :  [20],\n",
    "    'decisionTreeRegressor__max_features' :  [0.058823529411764705],   \n",
    "    'decisionTreeRegressor__random_state' :  [42]\n",
    "}\n",
    "\n",
    "# pipeline.fit(X_train, y_train)\n",
    "# pipeline.score(X_test, y_test)\n",
    "search = GridSearchCV(pipeline, pipeline_param, cv=5).fit(X_train, y_train)\n",
    "\n",
    "print(\"Train: Coeficiente de determinacion de la predicción:\", search.best_estimator_.score(X_train, y_train))\n",
    "print(\"Test: Coeficiente de determinacion de la predicción:\", search.best_estimator_.score(X_test, y_test))\n"
   ]
  }
 ],
 "metadata": {
  "interpreter": {
   "hash": "a51aa54f9119d77f4708dc3cf3dc70734fc4db61920693d28419361ad838a12b"
  },
  "kernelspec": {
   "display_name": "Python 3.7.4 64-bit",
   "language": "python",
   "name": "python3"
  },
  "language_info": {
   "codemirror_mode": {
    "name": "ipython",
    "version": 3
   },
   "file_extension": ".py",
   "mimetype": "text/x-python",
   "name": "python",
   "nbconvert_exporter": "python",
   "pygments_lexer": "ipython3",
   "version": "3.7.4"
  },
  "orig_nbformat": 4
 },
 "nbformat": 4,
 "nbformat_minor": 2
}

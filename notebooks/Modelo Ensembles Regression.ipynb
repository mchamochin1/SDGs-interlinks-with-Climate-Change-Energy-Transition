{
 "cells": [
  {
   "cell_type": "code",
   "execution_count": 24,
   "metadata": {},
   "outputs": [],
   "source": [
    "# Import the required variables\n",
    "import pandas as pd\n",
    "import numpy as np\n",
    "from sklearn.decomposition import PCA\n",
    "from sklearn.preprocessing import StandardScaler\n",
    "from matplotlib import pyplot as plt, style # for ploting\n",
    "import seaborn as sns"
   ]
  },
  {
   "cell_type": "code",
   "execution_count": 2,
   "metadata": {},
   "outputs": [],
   "source": [
    "def warn(*args, **kwargs): pass\n",
    "import warnings\n",
    "warnings.warn = warn"
   ]
  },
  {
   "cell_type": "code",
   "execution_count": 13,
   "metadata": {},
   "outputs": [],
   "source": [
    "def num_plot(df, col, title, symb):\n",
    "    fig, ax = plt.subplots(2, 1, sharex=True, figsize=(8,5),gridspec_kw={\"height_ratios\": (.2, .8)})\n",
    "    ax[0].set_title(title,fontsize=18)\n",
    "    sns.boxplot(x=col, data=df, ax=ax[0])\n",
    "    ax[0].set(yticks=[])\n",
    "    sns.histplot(x=col, data=df, ax=ax[1])\n",
    "    ax[1].set_xlabel(col, fontsize=16)\n",
    "    plt.axvline(df[col].mean(), color='darkgreen', linewidth=2.2, label='mean=' + str(np.round(df[col].mean(),1)) + symb)\n",
    "    plt.axvline(df[col].median(), color='red', linewidth=2.2, label='median='+ str(np.round(df[col].median(),1)) + symb)\n",
    "    plt.axvline(df[col].mode()[0], color='purple', linewidth=2.2, label='mode='+ str(df[col].mode()[0]) + symb)\n",
    "    plt.legend(bbox_to_anchor=(1, 1.03), ncol=1, fontsize=17, fancybox=True, shadow=True, frameon=True)\n",
    "    plt.tight_layout()\n",
    "    plt.show()"
   ]
  },
  {
   "cell_type": "code",
   "execution_count": 25,
   "metadata": {},
   "outputs": [
    {
     "data": {
      "text/plain": [
       "<Figure size 432x288 with 0 Axes>"
      ]
     },
     "metadata": {},
     "output_type": "display_data"
    }
   ],
   "source": [
    "sns.set_style(\"whitegrid\")\n",
    "sns.despine()\n",
    "plt.style.use(\"seaborn-whitegrid\")\n",
    "plt.rc(\"figure\", autolayout=True)\n",
    "plt.rc(\"axes\", labelweight=\"bold\", labelsize=\"large\", titleweight=\"bold\", titlesize=14, titlepad=10)"
   ]
  },
  {
   "cell_type": "code",
   "execution_count": 26,
   "metadata": {},
   "outputs": [],
   "source": [
    "# Import the required variables\n",
    "import pandas as pd\n",
    "import numpy as np\n",
    "\n",
    "# Read the data\n",
    "Res_Nonhydro_Capita = pd.read_excel (\"../data/processed/Res_Nonhydro_Capita.xlsx\", index_col = 0)\n",
    "SDGs_Ranks_2021 = pd.read_excel (\"../data/processed/SDGs_Ranks_2021.xlsx\", index_col = 0)\n",
    "SDGs_Scores_2021 = pd.read_excel (\"../data/processed/SDGs_Scores_2021.xlsx\", index_col = 0)\n",
    "\n",
    "# Only consider the 2021 year\n",
    "Res_Nonhydro_Capita_2021 = Res_Nonhydro_Capita[[2021]]\n",
    "Res_Nonhydro_Capita_2021= Res_Nonhydro_Capita_2021.rename(columns={ 2021: 'Res_Nonhydro_Capita_2021'})\n",
    "\n",
    "# Do not consider the first column\n",
    "SDGs_Ranks_2021 = SDGs_Ranks_2021.iloc[:,1:]\n",
    "SDGs_Scores_2021 = SDGs_Scores_2021.iloc[:,1:]\n",
    "\n",
    "# Append the target to the Datasets\n",
    "SDGs_Ranks_2021 = pd.concat([SDGs_Ranks_2021, Res_Nonhydro_Capita_2021], axis=1)\n",
    "SDGs_Scores_2021 = pd.concat([SDGs_Scores_2021, Res_Nonhydro_Capita_2021], axis=1)"
   ]
  },
  {
   "cell_type": "markdown",
   "metadata": {},
   "source": [
    "# Predicciones - Modelo Ensembles SDGs_Scores_2021"
   ]
  },
  {
   "cell_type": "code",
   "execution_count": 27,
   "metadata": {},
   "outputs": [],
   "source": [
    "from sklearn.model_selection import train_test_split\n",
    "\n",
    "X = SDGs_Scores_2021.drop('Res_Nonhydro_Capita_2021',1)\n",
    "y = SDGs_Scores_2021['Res_Nonhydro_Capita_2021']\n",
    "\n",
    "X_train, X_test, y_train, y_test = train_test_split(X,y,test_size=0.2,random_state=42)"
   ]
  },
  {
   "cell_type": "markdown",
   "metadata": {},
   "source": [
    "## A.- RandomForestRegressor"
   ]
  },
  {
   "cell_type": "code",
   "execution_count": 28,
   "metadata": {},
   "outputs": [
    {
     "name": "stdout",
     "output_type": "stream",
     "text": [
      "MAE_Best 282.64984164724916 n_estimators 25 max_leaf_nodes 20\n"
     ]
    }
   ],
   "source": [
    "from sklearn.ensemble import RandomForestRegressor\n",
    "from sklearn.metrics import mean_absolute_error, mean_absolute_percentage_error, mean_squared_error, r2_score\n",
    "\n",
    "list_n_estimators = [10, 25, 50, 100, 200, 300, 500, 800, 1000]\n",
    "list_max_leaf_nodes = [5, 10, 15, 20, 25]\n",
    "\n",
    "n = 0\n",
    "for n_estimatorsi in list_n_estimators:\n",
    "    for max_leaf_nodesi in list_max_leaf_nodes:\n",
    "        rnd_reg = RandomForestRegressor(n_estimators=n_estimatorsi, max_leaf_nodes=max_leaf_nodesi, random_state=42)\n",
    "        rnd_reg.fit(X_train, y_train)\n",
    "        predictions = rnd_reg.predict(X_test)\n",
    "        if (n == 0): # The first time initialize\n",
    "            MAE_Best = mean_absolute_error(y_test, predictions)\n",
    "            n_estimators_Best = n_estimatorsi\n",
    "            max_leaf_nodes_Best = max_leaf_nodesi\n",
    "        else:\n",
    "            MAE_New = mean_absolute_error(y_test, predictions)\n",
    "            if (MAE_New < MAE_Best):\n",
    "                MAE_Best = MAE_New\n",
    "                n_estimators_Best = n_estimatorsi\n",
    "                max_leaf_nodes_Best = max_leaf_nodesi\n",
    "            else:\n",
    "                pass\n",
    "    n +=1\n",
    "print('MAE_Best', MAE_Best, \n",
    "        'n_estimators', n_estimators_Best, \n",
    "        'max_leaf_nodes', max_leaf_nodes_Best)"
   ]
  },
  {
   "cell_type": "code",
   "execution_count": 60,
   "metadata": {},
   "outputs": [
    {
     "name": "stdout",
     "output_type": "stream",
     "text": [
      "Coeficiente determinación Train: 0.7614042770640623\n",
      "MAE Train: 230.24477577389885\n",
      "MAPE Train: 5868268436519716.0\n",
      "MSE Train: 711679.9595582478\n",
      "RMSE Train: 843.6112609242765\n",
      "--------------------\n",
      "Coeficiente determinación Test: 0.46020601854981935\n",
      "MAE Test: 282.64984164724916\n",
      "MAPE Test: 1.624867244782338e+16\n",
      "MSE Test: 383143.5468183866\n",
      "RMSE Test: 618.9859019544682\n",
      "Feature Importance\n"
     ]
    },
    {
     "data": {
      "text/html": [
       "<div>\n",
       "<style scoped>\n",
       "    .dataframe tbody tr th:only-of-type {\n",
       "        vertical-align: middle;\n",
       "    }\n",
       "\n",
       "    .dataframe tbody tr th {\n",
       "        vertical-align: top;\n",
       "    }\n",
       "\n",
       "    .dataframe thead th {\n",
       "        text-align: right;\n",
       "    }\n",
       "</style>\n",
       "<table border=\"1\" class=\"dataframe\">\n",
       "  <thead>\n",
       "    <tr style=\"text-align: right;\">\n",
       "      <th></th>\n",
       "      <th>importances</th>\n",
       "    </tr>\n",
       "    <tr>\n",
       "      <th>features</th>\n",
       "      <th></th>\n",
       "    </tr>\n",
       "  </thead>\n",
       "  <tbody>\n",
       "    <tr>\n",
       "      <th>SDG16</th>\n",
       "      <td>0.276171</td>\n",
       "    </tr>\n",
       "    <tr>\n",
       "      <th>SDG7</th>\n",
       "      <td>0.230262</td>\n",
       "    </tr>\n",
       "    <tr>\n",
       "      <th>SDG3</th>\n",
       "      <td>0.152737</td>\n",
       "    </tr>\n",
       "    <tr>\n",
       "      <th>SDG9</th>\n",
       "      <td>0.087229</td>\n",
       "    </tr>\n",
       "    <tr>\n",
       "      <th>SDG12</th>\n",
       "      <td>0.072661</td>\n",
       "    </tr>\n",
       "    <tr>\n",
       "      <th>SDG17</th>\n",
       "      <td>0.056477</td>\n",
       "    </tr>\n",
       "    <tr>\n",
       "      <th>SDG6</th>\n",
       "      <td>0.044201</td>\n",
       "    </tr>\n",
       "    <tr>\n",
       "      <th>SDG8</th>\n",
       "      <td>0.019483</td>\n",
       "    </tr>\n",
       "    <tr>\n",
       "      <th>SDG11</th>\n",
       "      <td>0.014557</td>\n",
       "    </tr>\n",
       "    <tr>\n",
       "      <th>SDG5</th>\n",
       "      <td>0.010338</td>\n",
       "    </tr>\n",
       "    <tr>\n",
       "      <th>SDG15</th>\n",
       "      <td>0.009672</td>\n",
       "    </tr>\n",
       "    <tr>\n",
       "      <th>SDG1</th>\n",
       "      <td>0.006357</td>\n",
       "    </tr>\n",
       "    <tr>\n",
       "      <th>SDG2</th>\n",
       "      <td>0.005926</td>\n",
       "    </tr>\n",
       "    <tr>\n",
       "      <th>SDG13</th>\n",
       "      <td>0.004858</td>\n",
       "    </tr>\n",
       "    <tr>\n",
       "      <th>SDG4</th>\n",
       "      <td>0.004561</td>\n",
       "    </tr>\n",
       "    <tr>\n",
       "      <th>SDG14</th>\n",
       "      <td>0.002963</td>\n",
       "    </tr>\n",
       "    <tr>\n",
       "      <th>SDG10</th>\n",
       "      <td>0.001549</td>\n",
       "    </tr>\n",
       "  </tbody>\n",
       "</table>\n",
       "</div>"
      ],
      "text/plain": [
       "          importances\n",
       "features             \n",
       "SDG16        0.276171\n",
       "SDG7         0.230262\n",
       "SDG3         0.152737\n",
       "SDG9         0.087229\n",
       "SDG12        0.072661\n",
       "SDG17        0.056477\n",
       "SDG6         0.044201\n",
       "SDG8         0.019483\n",
       "SDG11        0.014557\n",
       "SDG5         0.010338\n",
       "SDG15        0.009672\n",
       "SDG1         0.006357\n",
       "SDG2         0.005926\n",
       "SDG13        0.004858\n",
       "SDG4         0.004561\n",
       "SDG14        0.002963\n",
       "SDG10        0.001549"
      ]
     },
     "metadata": {},
     "output_type": "display_data"
    },
    {
     "name": "stdout",
     "output_type": "stream",
     "text": [
      "--------------------\n",
      "Permutation importance\n"
     ]
    },
    {
     "data": {
      "text/html": [
       "<div>\n",
       "<style scoped>\n",
       "    .dataframe tbody tr th:only-of-type {\n",
       "        vertical-align: middle;\n",
       "    }\n",
       "\n",
       "    .dataframe tbody tr th {\n",
       "        vertical-align: top;\n",
       "    }\n",
       "\n",
       "    .dataframe thead th {\n",
       "        text-align: right;\n",
       "    }\n",
       "</style>\n",
       "<table border=\"1\" class=\"dataframe\">\n",
       "  <thead>\n",
       "    <tr style=\"text-align: right;\">\n",
       "      <th></th>\n",
       "      <th>importances</th>\n",
       "    </tr>\n",
       "    <tr>\n",
       "      <th>features</th>\n",
       "      <th></th>\n",
       "    </tr>\n",
       "  </thead>\n",
       "  <tbody>\n",
       "    <tr>\n",
       "      <th>SDG16</th>\n",
       "      <td>0.339075</td>\n",
       "    </tr>\n",
       "    <tr>\n",
       "      <th>SDG7</th>\n",
       "      <td>0.186046</td>\n",
       "    </tr>\n",
       "    <tr>\n",
       "      <th>SDG3</th>\n",
       "      <td>0.034719</td>\n",
       "    </tr>\n",
       "    <tr>\n",
       "      <th>SDG9</th>\n",
       "      <td>0.031723</td>\n",
       "    </tr>\n",
       "    <tr>\n",
       "      <th>SDG12</th>\n",
       "      <td>0.028054</td>\n",
       "    </tr>\n",
       "    <tr>\n",
       "      <th>SDG6</th>\n",
       "      <td>0.012778</td>\n",
       "    </tr>\n",
       "    <tr>\n",
       "      <th>SDG17</th>\n",
       "      <td>0.010615</td>\n",
       "    </tr>\n",
       "    <tr>\n",
       "      <th>SDG5</th>\n",
       "      <td>0.005469</td>\n",
       "    </tr>\n",
       "    <tr>\n",
       "      <th>SDG11</th>\n",
       "      <td>0.004924</td>\n",
       "    </tr>\n",
       "    <tr>\n",
       "      <th>SDG8</th>\n",
       "      <td>0.004511</td>\n",
       "    </tr>\n",
       "    <tr>\n",
       "      <th>SDG2</th>\n",
       "      <td>0.002917</td>\n",
       "    </tr>\n",
       "    <tr>\n",
       "      <th>SDG1</th>\n",
       "      <td>0.002909</td>\n",
       "    </tr>\n",
       "    <tr>\n",
       "      <th>SDG4</th>\n",
       "      <td>0.001993</td>\n",
       "    </tr>\n",
       "    <tr>\n",
       "      <th>SDG14</th>\n",
       "      <td>0.001721</td>\n",
       "    </tr>\n",
       "    <tr>\n",
       "      <th>SDG15</th>\n",
       "      <td>0.000697</td>\n",
       "    </tr>\n",
       "    <tr>\n",
       "      <th>SDG10</th>\n",
       "      <td>-0.000441</td>\n",
       "    </tr>\n",
       "    <tr>\n",
       "      <th>SDG13</th>\n",
       "      <td>-0.003501</td>\n",
       "    </tr>\n",
       "  </tbody>\n",
       "</table>\n",
       "</div>"
      ],
      "text/plain": [
       "          importances\n",
       "features             \n",
       "SDG16        0.339075\n",
       "SDG7         0.186046\n",
       "SDG3         0.034719\n",
       "SDG9         0.031723\n",
       "SDG12        0.028054\n",
       "SDG6         0.012778\n",
       "SDG17        0.010615\n",
       "SDG5         0.005469\n",
       "SDG11        0.004924\n",
       "SDG8         0.004511\n",
       "SDG2         0.002917\n",
       "SDG1         0.002909\n",
       "SDG4         0.001993\n",
       "SDG14        0.001721\n",
       "SDG15        0.000697\n",
       "SDG10       -0.000441\n",
       "SDG13       -0.003501"
      ]
     },
     "metadata": {},
     "output_type": "display_data"
    },
    {
     "data": {
      "text/plain": [
       "<AxesSubplot:title={'center':'Permutation Importance'}, ylabel='features'>"
      ]
     },
     "execution_count": 60,
     "metadata": {},
     "output_type": "execute_result"
    },
    {
     "data": {
      "image/png": "[encoded data removed]",
      "text/plain": [
       "<Figure size 432x288 with 1 Axes>"
      ]
     },
     "metadata": {},
     "output_type": "display_data"
    },
    {
     "data": {
      "image/png": "[encoded data removed]",
      "text/plain": [
       "<Figure size 432x288 with 1 Axes>"
      ]
     },
     "metadata": {},
     "output_type": "display_data"
    }
   ],
   "source": [
    "from sklearn.ensemble import RandomForestRegressor\n",
    "from sklearn.metrics import mean_absolute_error, mean_absolute_percentage_error, mean_squared_error, r2_score\n",
    "\n",
    "rnd_reg = RandomForestRegressor(n_estimators=25, max_leaf_nodes=20, random_state=42)\n",
    "rnd_reg.fit(X_train, y_train)\n",
    "\n",
    "y_pred = rnd_reg.predict(X_test)\n",
    "\n",
    "\n",
    "print(\"Coeficiente determinación Train:\", r2_score(y_train, rnd_reg.predict(X_train)))\n",
    "print(\"MAE Train:\", mean_absolute_error(y_train, rnd_reg.predict(X_train)))\n",
    "print(\"MAPE Train:\", mean_absolute_percentage_error(y_train, rnd_reg.predict(X_train)))\n",
    "print(\"MSE Train:\", mean_squared_error(y_train, rnd_reg.predict(X_train)))\n",
    "print(\"RMSE Train:\", np.sqrt(mean_squared_error(y_train, rnd_reg.predict(X_train))))\n",
    "\n",
    "print('-'*20)\n",
    "\n",
    "print(\"Coeficiente determinación Test:\", r2_score(y_test, y_pred))\n",
    "print(\"MAE Test:\", mean_absolute_error(y_test, y_pred))\n",
    "print(\"MAPE Test:\", mean_absolute_percentage_error(y_test, y_pred))\n",
    "print(\"MSE Test:\", mean_squared_error(y_test, y_pred))\n",
    "print(\"RMSE Test:\", np.sqrt(mean_squared_error(y_test, y_pred)))\n",
    "\n",
    "print('Feature Importance')\n",
    "importances = pd.DataFrame({'features':X_train.columns, 'importances':rnd_reg.feature_importances_}).sort_values('importances', ascending=False)\n",
    "#Visualizamos\n",
    "importances.set_index('features', inplace = True)\n",
    "display(importances)\n",
    "importances.sort_values(\"importances\").plot.barh(y='importances', title = 'Feature Importance')\n",
    "\n",
    "\n",
    "print('-'*20)\n",
    "\n",
    "print('Permutation importance')\n",
    "from sklearn.inspection import permutation_importance\n",
    "\n",
    "permutation_train = permutation_importance(estimator=rnd_reg,\n",
    "                                    X = X_train,\n",
    "                                    y = y_train,\n",
    "                                    n_repeats = 10, #n_repeats = Number of times to permute a feature.\n",
    "                                    random_state=42,\n",
    "                                    scoring=\"r2\")\n",
    "permutation_importances = pd.DataFrame({'features':X_train.columns, 'importances': permutation_train.importances_mean}).sort_values('importances', ascending=False)\n",
    "\n",
    "#Visualizamos\n",
    "permutation_importances.set_index('features', inplace = True)\n",
    "display(permutation_importances)\n",
    "permutation_importances.sort_values(\"importances\").plot.barh(y='importances', title = 'Permutation Importance')\n"
   ]
  },
  {
   "cell_type": "code",
   "execution_count": 61,
   "metadata": {},
   "outputs": [
    {
     "name": "stdout",
     "output_type": "stream",
     "text": [
      "--------------------\n",
      "SHAP (SHapley Additive exPlanations) Importance\n"
     ]
    },
    {
     "data": {
      "image/png": "[encoded data removed]",
      "text/plain": [
       "<Figure size 576x597.6 with 2 Axes>"
      ]
     },
     "metadata": {},
     "output_type": "display_data"
    }
   ],
   "source": [
    "print('-'*20)\n",
    "\n",
    "print('SHAP (SHapley Additive exPlanations) Importance')\n",
    "import shap\n",
    "\n",
    "explainer = shap.TreeExplainer(rnd_reg)\n",
    "shap_values = explainer.shap_values(X_train)\n",
    "\n",
    "shap.summary_plot(shap_values, X_train)"
   ]
  },
  {
   "cell_type": "code",
   "execution_count": 72,
   "metadata": {},
   "outputs": [
    {
     "data": {
      "image/png": "[encoded data removed]",
      "text/plain": [
       "<Figure size 576x136.8 with 2 Axes>"
      ]
     },
     "metadata": {},
     "output_type": "display_data"
    }
   ],
   "source": [
    "shap.summary_plot(shap_values[:,11:12], X_train.iloc[:, 11:12]) # SDG12"
   ]
  },
  {
   "cell_type": "code",
   "execution_count": 73,
   "metadata": {},
   "outputs": [
    {
     "data": {
      "image/png": "[encoded data removed]",
      "text/plain": [
       "<Figure size 576x136.8 with 2 Axes>"
      ]
     },
     "metadata": {},
     "output_type": "display_data"
    }
   ],
   "source": [
    "shap.summary_plot(shap_values[:,9:10], X_train.iloc[:, 9:10]) # SDG10"
   ]
  },
  {
   "cell_type": "markdown",
   "metadata": {},
   "source": [
    "SHAP measures the impact of variables taking into account the interaction with other variables.\n",
    "\n",
    "How to interpret the shap summary plot?\n",
    "* The y-axis indicates the variable name, in order of importance from top to bottom. The value next to them is the mean SHAP value.\n",
    "* On the x-axis is the SHAP value. Indicates how much is the change in log-odds. From this number we can extract the probability of success.\n",
    "* Gradient color indicates the original value for that variable. In booleans, it will take two colors, but in number it can contain the whole spectrum.\n",
    "* Each point represents a row from the original dataset.\n",
    "Going back to the bike dataset, most of the variables are boolean.\n",
    "\n",
    "We can see:\n",
    "1. With lower values of SDG12 and SDG10, Res_Nonhydro_Capita_2021 is higher.\n",
    "2. With higher values of the others, Res_Nonhydro_Capita_2021 is higher. \n",
    "\n",
    "\n"
   ]
  },
  {
   "cell_type": "markdown",
   "metadata": {},
   "source": [
    "## B.- AdaBoostRegressor"
   ]
  },
  {
   "cell_type": "code",
   "execution_count": 32,
   "metadata": {},
   "outputs": [
    {
     "name": "stdout",
     "output_type": "stream",
     "text": [
      "MAE_Best 638.0563302218949 n_estimators 10\n"
     ]
    }
   ],
   "source": [
    "from sklearn.ensemble import AdaBoostRegressor\n",
    "from sklearn.metrics import mean_absolute_error, mean_absolute_percentage_error, mean_squared_error, r2_score\n",
    "\n",
    "list_n_estimators = [10, 25, 50, 100, 200, 300, 500, 800, 1000]\n",
    "\n",
    "n = 0\n",
    "for n_estimatorsi in list_n_estimators:\n",
    "    ada_reg = AdaBoostRegressor(n_estimators=n_estimatorsi, random_state=42)\n",
    "    ada_reg.fit(X_train, y_train)\n",
    "    predictions = ada_reg.predict(X_test)\n",
    "    if (n == 0): # The first time initialize\n",
    "        MAE_Best = mean_absolute_error(y_test, predictions)\n",
    "        n_estimators_Best = n_estimatorsi\n",
    "    else:\n",
    "        MAE_New = mean_absolute_error(y_test, predictions)\n",
    "        if (MAE_New < MAE_Best):\n",
    "            MAE_Best = MAE_New\n",
    "            n_estimators_Best = n_estimatorsi\n",
    "        else:\n",
    "            pass\n",
    "    n +=1\n",
    "print('MAE_Best', MAE_Best, \n",
    "        'n_estimators', n_estimators_Best)"
   ]
  },
  {
   "cell_type": "code",
   "execution_count": 33,
   "metadata": {},
   "outputs": [
    {
     "name": "stdout",
     "output_type": "stream",
     "text": [
      "Coeficiente determinación Train: 0.9744582111042487\n",
      "MAE Train: 185.3746520562977\n",
      "MAPE Train: 1.0719655336913634e+16\n",
      "MSE Train: 76185.68792724852\n",
      "RMSE Train: 276.01755003486375\n",
      "--------------------\n",
      "Coeficiente determinación Test: -7.334713711442065\n",
      "MAE Test: 638.0563302218949\n",
      "MAPE Test: 5.417048572756107e+16\n",
      "MSE Test: 5915945.49561031\n",
      "RMSE Test: 2432.271673890544\n",
      "Feature Importance\n"
     ]
    },
    {
     "data": {
      "text/html": [
       "<div>\n",
       "<style scoped>\n",
       "    .dataframe tbody tr th:only-of-type {\n",
       "        vertical-align: middle;\n",
       "    }\n",
       "\n",
       "    .dataframe tbody tr th {\n",
       "        vertical-align: top;\n",
       "    }\n",
       "\n",
       "    .dataframe thead th {\n",
       "        text-align: right;\n",
       "    }\n",
       "</style>\n",
       "<table border=\"1\" class=\"dataframe\">\n",
       "  <thead>\n",
       "    <tr style=\"text-align: right;\">\n",
       "      <th></th>\n",
       "      <th>importances</th>\n",
       "    </tr>\n",
       "    <tr>\n",
       "      <th>features</th>\n",
       "      <th></th>\n",
       "    </tr>\n",
       "  </thead>\n",
       "  <tbody>\n",
       "    <tr>\n",
       "      <th>SDG16</th>\n",
       "      <td>0.524701</td>\n",
       "    </tr>\n",
       "    <tr>\n",
       "      <th>SDG7</th>\n",
       "      <td>0.147596</td>\n",
       "    </tr>\n",
       "    <tr>\n",
       "      <th>SDG12</th>\n",
       "      <td>0.127371</td>\n",
       "    </tr>\n",
       "    <tr>\n",
       "      <th>SDG11</th>\n",
       "      <td>0.096791</td>\n",
       "    </tr>\n",
       "    <tr>\n",
       "      <th>SDG17</th>\n",
       "      <td>0.050778</td>\n",
       "    </tr>\n",
       "    <tr>\n",
       "      <th>SDG9</th>\n",
       "      <td>0.017181</td>\n",
       "    </tr>\n",
       "    <tr>\n",
       "      <th>SDG6</th>\n",
       "      <td>0.013228</td>\n",
       "    </tr>\n",
       "    <tr>\n",
       "      <th>SDG8</th>\n",
       "      <td>0.011638</td>\n",
       "    </tr>\n",
       "    <tr>\n",
       "      <th>SDG15</th>\n",
       "      <td>0.003985</td>\n",
       "    </tr>\n",
       "    <tr>\n",
       "      <th>SDG3</th>\n",
       "      <td>0.003645</td>\n",
       "    </tr>\n",
       "    <tr>\n",
       "      <th>SDG5</th>\n",
       "      <td>0.003086</td>\n",
       "    </tr>\n",
       "    <tr>\n",
       "      <th>SDG2</th>\n",
       "      <td>0.000000</td>\n",
       "    </tr>\n",
       "    <tr>\n",
       "      <th>SDG10</th>\n",
       "      <td>0.000000</td>\n",
       "    </tr>\n",
       "    <tr>\n",
       "      <th>SDG4</th>\n",
       "      <td>0.000000</td>\n",
       "    </tr>\n",
       "    <tr>\n",
       "      <th>SDG13</th>\n",
       "      <td>0.000000</td>\n",
       "    </tr>\n",
       "    <tr>\n",
       "      <th>SDG14</th>\n",
       "      <td>0.000000</td>\n",
       "    </tr>\n",
       "    <tr>\n",
       "      <th>SDG1</th>\n",
       "      <td>0.000000</td>\n",
       "    </tr>\n",
       "  </tbody>\n",
       "</table>\n",
       "</div>"
      ],
      "text/plain": [
       "          importances\n",
       "features             \n",
       "SDG16        0.524701\n",
       "SDG7         0.147596\n",
       "SDG12        0.127371\n",
       "SDG11        0.096791\n",
       "SDG17        0.050778\n",
       "SDG9         0.017181\n",
       "SDG6         0.013228\n",
       "SDG8         0.011638\n",
       "SDG15        0.003985\n",
       "SDG3         0.003645\n",
       "SDG5         0.003086\n",
       "SDG2         0.000000\n",
       "SDG10        0.000000\n",
       "SDG4         0.000000\n",
       "SDG13        0.000000\n",
       "SDG14        0.000000\n",
       "SDG1         0.000000"
      ]
     },
     "metadata": {},
     "output_type": "display_data"
    },
    {
     "data": {
      "image/png": "[encoded data removed]",
      "text/plain": [
       "<Figure size 432x288 with 1 Axes>"
      ]
     },
     "metadata": {},
     "output_type": "display_data"
    }
   ],
   "source": [
    "from sklearn.ensemble import AdaBoostRegressor\n",
    "from sklearn.metrics import mean_absolute_error, mean_absolute_percentage_error, mean_squared_error, r2_score\n",
    "\n",
    "ada_reg = AdaBoostRegressor(n_estimators=10, random_state=42)\n",
    "ada_reg.fit(X_train, y_train)\n",
    "\n",
    "y_pred = ada_reg.predict(X_test)\n",
    "\n",
    "\n",
    "print(\"Coeficiente determinación Train:\", r2_score(y_train, ada_reg.predict(X_train)))\n",
    "print(\"MAE Train:\", mean_absolute_error(y_train, ada_reg.predict(X_train)))\n",
    "print(\"MAPE Train:\", mean_absolute_percentage_error(y_train, ada_reg.predict(X_train)))\n",
    "print(\"MSE Train:\", mean_squared_error(y_train, ada_reg.predict(X_train)))\n",
    "print(\"RMSE Train:\", np.sqrt(mean_squared_error(y_train, ada_reg.predict(X_train))))\n",
    "\n",
    "print('-'*20)\n",
    "\n",
    "print(\"Coeficiente determinación Test:\", r2_score(y_test, y_pred))\n",
    "print(\"MAE Test:\", mean_absolute_error(y_test, y_pred))\n",
    "print(\"MAPE Test:\", mean_absolute_percentage_error(y_test, y_pred))\n",
    "print(\"MSE Test:\", mean_squared_error(y_test, y_pred))\n",
    "print(\"RMSE Test:\", np.sqrt(mean_squared_error(y_test, y_pred)))\n",
    "\n",
    "print('Feature Importance')\n",
    "importances = pd.DataFrame({'features':X_train.columns, 'importances':ada_reg.feature_importances_}).sort_values('importances', ascending=False)\n",
    "#Visualizamos\n",
    "importances.set_index('features', inplace = True)\n",
    "display(importances)\n",
    "importances.sort_values(\"importances\").plot.barh(y='importances');"
   ]
  },
  {
   "cell_type": "markdown",
   "metadata": {},
   "source": [
    "No bueno"
   ]
  },
  {
   "cell_type": "markdown",
   "metadata": {},
   "source": [
    "## C.- GradientBoostingRegressor"
   ]
  },
  {
   "cell_type": "code",
   "execution_count": 20,
   "metadata": {},
   "outputs": [
    {
     "name": "stdout",
     "output_type": "stream",
     "text": [
      "MAE_Best 444.85525398875546 n_estimators 2 max_depth 10 learning_rate 0.1\n"
     ]
    }
   ],
   "source": [
    "from sklearn.ensemble import GradientBoostingRegressor\n",
    "from sklearn.metrics import mean_absolute_error, mean_absolute_percentage_error, mean_squared_error, r2_score\n",
    "\n",
    "list_n_estimators = [1, 2, 3, 4, 5, 6, 7, 8, 9, 10, 11, 12, 13, 14, 15, 16, 17]\n",
    "list_max_depth = [5, 10, 15, 20, 25]\n",
    "list_learning_rate = [0.01, 0.1, 0.5, 0.75, 1, 1.25, 1.5]\n",
    "n = 0\n",
    "for n_estimatorsi in list_n_estimators:\n",
    "    for max_depthi in list_max_depth:\n",
    "        for learning_ratei in list_learning_rate:\n",
    "            gbrt = GradientBoostingRegressor(n_estimators=n_estimatorsi, max_depth=max_depthi, learning_rate=learning_ratei, random_state=42)\n",
    "            gbrt.fit(X_train, y_train)\n",
    "            predictions = gbrt.predict(X_test)\n",
    "            if (n == 0): # The first time initialize\n",
    "                MAE_Best = mean_absolute_error(y_test, predictions)\n",
    "                n_estimators_Best = n_estimatorsi\n",
    "                max_depth_Best = max_depthi\n",
    "                learning_rate_Best = learning_ratei\n",
    "            else:\n",
    "                MAE_New = mean_absolute_error(y_test, predictions)\n",
    "                if (MAE_New < MAE_Best):\n",
    "                    MAE_Best = MAE_New\n",
    "                    n_estimators_Best = n_estimatorsi\n",
    "                    max_depth_Best = max_depthi\n",
    "                    learning_rate_Best = learning_ratei\n",
    "                else:\n",
    "                    pass\n",
    "    n +=1\n",
    "print('MAE_Best', MAE_Best, \n",
    "        'n_estimators', n_estimators_Best, \n",
    "        'max_depth', max_depth_Best,\n",
    "        'learning_rate', learning_rate_Best)"
   ]
  },
  {
   "cell_type": "code",
   "execution_count": 34,
   "metadata": {},
   "outputs": [
    {
     "name": "stdout",
     "output_type": "stream",
     "text": [
      "Coeficiente determinación Train: 0.3438955695400825\n",
      "MAE Train: 642.9841184023484\n",
      "MAPE Train: 4.28922890185039e+16\n",
      "MSE Train: 1957019.047910899\n",
      "RMSE Train: 1398.934969150067\n",
      "--------------------\n",
      "Coeficiente determinación Test: 0.5941939844281761\n",
      "MAE Test: 444.85525398875546\n",
      "MAPE Test: 2.512043702675522e+17\n",
      "MSE Test: 288039.4399891544\n",
      "RMSE Test: 536.6930593823199\n",
      "Feature Importance\n"
     ]
    },
    {
     "data": {
      "text/html": [
       "<div>\n",
       "<style scoped>\n",
       "    .dataframe tbody tr th:only-of-type {\n",
       "        vertical-align: middle;\n",
       "    }\n",
       "\n",
       "    .dataframe tbody tr th {\n",
       "        vertical-align: top;\n",
       "    }\n",
       "\n",
       "    .dataframe thead th {\n",
       "        text-align: right;\n",
       "    }\n",
       "</style>\n",
       "<table border=\"1\" class=\"dataframe\">\n",
       "  <thead>\n",
       "    <tr style=\"text-align: right;\">\n",
       "      <th></th>\n",
       "      <th>importances</th>\n",
       "    </tr>\n",
       "    <tr>\n",
       "      <th>features</th>\n",
       "      <th></th>\n",
       "    </tr>\n",
       "  </thead>\n",
       "  <tbody>\n",
       "    <tr>\n",
       "      <th>SDG16</th>\n",
       "      <td>0.789295</td>\n",
       "    </tr>\n",
       "    <tr>\n",
       "      <th>SDG9</th>\n",
       "      <td>0.131576</td>\n",
       "    </tr>\n",
       "    <tr>\n",
       "      <th>SDG17</th>\n",
       "      <td>0.028646</td>\n",
       "    </tr>\n",
       "    <tr>\n",
       "      <th>SDG3</th>\n",
       "      <td>0.013034</td>\n",
       "    </tr>\n",
       "    <tr>\n",
       "      <th>SDG4</th>\n",
       "      <td>0.010114</td>\n",
       "    </tr>\n",
       "    <tr>\n",
       "      <th>SDG14</th>\n",
       "      <td>0.006576</td>\n",
       "    </tr>\n",
       "    <tr>\n",
       "      <th>SDG15</th>\n",
       "      <td>0.006390</td>\n",
       "    </tr>\n",
       "    <tr>\n",
       "      <th>SDG10</th>\n",
       "      <td>0.004669</td>\n",
       "    </tr>\n",
       "    <tr>\n",
       "      <th>SDG6</th>\n",
       "      <td>0.003797</td>\n",
       "    </tr>\n",
       "    <tr>\n",
       "      <th>SDG13</th>\n",
       "      <td>0.001770</td>\n",
       "    </tr>\n",
       "    <tr>\n",
       "      <th>SDG2</th>\n",
       "      <td>0.001406</td>\n",
       "    </tr>\n",
       "    <tr>\n",
       "      <th>SDG5</th>\n",
       "      <td>0.000844</td>\n",
       "    </tr>\n",
       "    <tr>\n",
       "      <th>SDG8</th>\n",
       "      <td>0.000695</td>\n",
       "    </tr>\n",
       "    <tr>\n",
       "      <th>SDG1</th>\n",
       "      <td>0.000411</td>\n",
       "    </tr>\n",
       "    <tr>\n",
       "      <th>SDG7</th>\n",
       "      <td>0.000356</td>\n",
       "    </tr>\n",
       "    <tr>\n",
       "      <th>SDG12</th>\n",
       "      <td>0.000342</td>\n",
       "    </tr>\n",
       "    <tr>\n",
       "      <th>SDG11</th>\n",
       "      <td>0.000080</td>\n",
       "    </tr>\n",
       "  </tbody>\n",
       "</table>\n",
       "</div>"
      ],
      "text/plain": [
       "          importances\n",
       "features             \n",
       "SDG16        0.789295\n",
       "SDG9         0.131576\n",
       "SDG17        0.028646\n",
       "SDG3         0.013034\n",
       "SDG4         0.010114\n",
       "SDG14        0.006576\n",
       "SDG15        0.006390\n",
       "SDG10        0.004669\n",
       "SDG6         0.003797\n",
       "SDG13        0.001770\n",
       "SDG2         0.001406\n",
       "SDG5         0.000844\n",
       "SDG8         0.000695\n",
       "SDG1         0.000411\n",
       "SDG7         0.000356\n",
       "SDG12        0.000342\n",
       "SDG11        0.000080"
      ]
     },
     "metadata": {},
     "output_type": "display_data"
    },
    {
     "data": {
      "image/png": "[encoded data removed]",
      "text/plain": [
       "<Figure size 432x288 with 1 Axes>"
      ]
     },
     "metadata": {},
     "output_type": "display_data"
    }
   ],
   "source": [
    "from sklearn.ensemble import GradientBoostingRegressor\n",
    "from sklearn.metrics import mean_absolute_error, mean_absolute_percentage_error, mean_squared_error, r2_score\n",
    "\n",
    "gbrt = GradientBoostingRegressor(n_estimators=2, max_depth=10, learning_rate=0.1, random_state=42)\n",
    "gbrt.fit(X_train, y_train)\n",
    "\n",
    "y_pred = gbrt.predict(X_test)\n",
    "\n",
    "\n",
    "print(\"Coeficiente determinación Train:\", r2_score(y_train, gbrt.predict(X_train)))\n",
    "print(\"MAE Train:\", mean_absolute_error(y_train, gbrt.predict(X_train)))\n",
    "print(\"MAPE Train:\", mean_absolute_percentage_error(y_train, gbrt.predict(X_train)))\n",
    "print(\"MSE Train:\", mean_squared_error(y_train, gbrt.predict(X_train)))\n",
    "print(\"RMSE Train:\", np.sqrt(mean_squared_error(y_train, gbrt.predict(X_train))))\n",
    "\n",
    "print('-'*20)\n",
    "\n",
    "print(\"Coeficiente determinación Test:\", r2_score(y_test, y_pred))\n",
    "print(\"MAE Test:\", mean_absolute_error(y_test, y_pred))\n",
    "print(\"MAPE Test:\", mean_absolute_percentage_error(y_test, y_pred))\n",
    "print(\"MSE Test:\", mean_squared_error(y_test, y_pred))\n",
    "print(\"RMSE Test:\", np.sqrt(mean_squared_error(y_test, y_pred)))\n",
    "\n",
    "print('Feature Importance')\n",
    "importances = pd.DataFrame({'features':X_train.columns, 'importances':gbrt.feature_importances_}).sort_values('importances', ascending=False)\n",
    "#Visualizamos\n",
    "importances.set_index('features', inplace = True)\n",
    "display(importances)\n",
    "importances.sort_values(\"importances\").plot.barh(y='importances');"
   ]
  },
  {
   "cell_type": "markdown",
   "metadata": {},
   "source": [
    "No bueno"
   ]
  },
  {
   "cell_type": "markdown",
   "metadata": {},
   "source": [
    "## D.- XGBRegressor"
   ]
  },
  {
   "cell_type": "code",
   "execution_count": 22,
   "metadata": {},
   "outputs": [
    {
     "name": "stdout",
     "output_type": "stream",
     "text": [
      "MAE_Best 263.61177574170426 n_estimators 5 max_depth 10 learning_rate 0.1\n"
     ]
    }
   ],
   "source": [
    "import xgboost\n",
    "from sklearn.metrics import mean_absolute_error, mean_absolute_percentage_error, mean_squared_error, r2_score\n",
    "\n",
    "list_n_estimators = [1, 2, 3, 4, 5, 6, 7, 8, 9, 10, 11, 12, 13, 14, 15, 16, 17]\n",
    "list_max_depth = [5, 10, 15, 20, 25]\n",
    "list_learning_rate = [0.01, 0.1, 0.5, 0.75, 1, 1.25, 1.5]\n",
    "n = 0\n",
    "for n_estimatorsi in list_n_estimators:\n",
    "    for max_depthi in list_max_depth:\n",
    "        for learning_ratei in list_learning_rate:\n",
    "            xgb_reg = xgboost.XGBRegressor(n_estimators=n_estimatorsi, max_depth=max_depthi, learning_rate=learning_ratei, random_state=42)\n",
    "            xgb_reg.fit(X_train, y_train)\n",
    "            predictions = xgb_reg.predict(X_test)\n",
    "            if (n == 0): # The first time initialize\n",
    "                MAE_Best = mean_absolute_error(y_test, predictions)\n",
    "                n_estimators_Best = n_estimatorsi\n",
    "                max_depth_Best = max_depthi\n",
    "                learning_rate_Best = learning_ratei\n",
    "            else:\n",
    "                MAE_New = mean_absolute_error(y_test, predictions)\n",
    "                if (MAE_New < MAE_Best):\n",
    "                    MAE_Best = MAE_New\n",
    "                    n_estimators_Best = n_estimatorsi\n",
    "                    max_depth_Best = max_depthi\n",
    "                    learning_rate_Best = learning_ratei\n",
    "                else:\n",
    "                    pass\n",
    "    n +=1\n",
    "print('MAE_Best', MAE_Best, \n",
    "        'n_estimators', n_estimators_Best, \n",
    "        'max_depth', max_depth_Best,\n",
    "        'learning_rate', learning_rate_Best)"
   ]
  },
  {
   "cell_type": "code",
   "execution_count": 63,
   "metadata": {},
   "outputs": [
    {
     "name": "stdout",
     "output_type": "stream",
     "text": [
      "Coeficiente determinación Train: 0.3638414906122822\n",
      "MAE Train: 434.72753282645925\n",
      "MAPE Train: 56803311617203.09\n",
      "MSE Train: 1897524.635658478\n",
      "RMSE Train: 1377.5066735440805\n",
      "--------------------\n",
      "Coeficiente determinación Test: 0.6927099517512012\n",
      "MAE Test: 263.61177574170426\n",
      "MAPE Test: 1490925793125525.8\n",
      "MSE Test: 218113.21176967243\n",
      "RMSE Test: 467.0259219461725\n",
      "--------------------\n",
      "Feature Importance\n"
     ]
    },
    {
     "data": {
      "text/html": [
       "<div>\n",
       "<style scoped>\n",
       "    .dataframe tbody tr th:only-of-type {\n",
       "        vertical-align: middle;\n",
       "    }\n",
       "\n",
       "    .dataframe tbody tr th {\n",
       "        vertical-align: top;\n",
       "    }\n",
       "\n",
       "    .dataframe thead th {\n",
       "        text-align: right;\n",
       "    }\n",
       "</style>\n",
       "<table border=\"1\" class=\"dataframe\">\n",
       "  <thead>\n",
       "    <tr style=\"text-align: right;\">\n",
       "      <th></th>\n",
       "      <th>importances</th>\n",
       "    </tr>\n",
       "    <tr>\n",
       "      <th>features</th>\n",
       "      <th></th>\n",
       "    </tr>\n",
       "  </thead>\n",
       "  <tbody>\n",
       "    <tr>\n",
       "      <th>SDG16</th>\n",
       "      <td>0.832602</td>\n",
       "    </tr>\n",
       "    <tr>\n",
       "      <th>SDG9</th>\n",
       "      <td>0.129166</td>\n",
       "    </tr>\n",
       "    <tr>\n",
       "      <th>SDG17</th>\n",
       "      <td>0.010772</td>\n",
       "    </tr>\n",
       "    <tr>\n",
       "      <th>SDG3</th>\n",
       "      <td>0.007952</td>\n",
       "    </tr>\n",
       "    <tr>\n",
       "      <th>SDG15</th>\n",
       "      <td>0.005450</td>\n",
       "    </tr>\n",
       "    <tr>\n",
       "      <th>SDG10</th>\n",
       "      <td>0.004191</td>\n",
       "    </tr>\n",
       "    <tr>\n",
       "      <th>SDG6</th>\n",
       "      <td>0.003536</td>\n",
       "    </tr>\n",
       "    <tr>\n",
       "      <th>SDG4</th>\n",
       "      <td>0.001092</td>\n",
       "    </tr>\n",
       "    <tr>\n",
       "      <th>SDG2</th>\n",
       "      <td>0.000917</td>\n",
       "    </tr>\n",
       "    <tr>\n",
       "      <th>SDG11</th>\n",
       "      <td>0.000856</td>\n",
       "    </tr>\n",
       "    <tr>\n",
       "      <th>SDG13</th>\n",
       "      <td>0.000817</td>\n",
       "    </tr>\n",
       "    <tr>\n",
       "      <th>SDG12</th>\n",
       "      <td>0.000657</td>\n",
       "    </tr>\n",
       "    <tr>\n",
       "      <th>SDG1</th>\n",
       "      <td>0.000560</td>\n",
       "    </tr>\n",
       "    <tr>\n",
       "      <th>SDG7</th>\n",
       "      <td>0.000474</td>\n",
       "    </tr>\n",
       "    <tr>\n",
       "      <th>SDG14</th>\n",
       "      <td>0.000457</td>\n",
       "    </tr>\n",
       "    <tr>\n",
       "      <th>SDG8</th>\n",
       "      <td>0.000260</td>\n",
       "    </tr>\n",
       "    <tr>\n",
       "      <th>SDG5</th>\n",
       "      <td>0.000242</td>\n",
       "    </tr>\n",
       "  </tbody>\n",
       "</table>\n",
       "</div>"
      ],
      "text/plain": [
       "          importances\n",
       "features             \n",
       "SDG16        0.832602\n",
       "SDG9         0.129166\n",
       "SDG17        0.010772\n",
       "SDG3         0.007952\n",
       "SDG15        0.005450\n",
       "SDG10        0.004191\n",
       "SDG6         0.003536\n",
       "SDG4         0.001092\n",
       "SDG2         0.000917\n",
       "SDG11        0.000856\n",
       "SDG13        0.000817\n",
       "SDG12        0.000657\n",
       "SDG1         0.000560\n",
       "SDG7         0.000474\n",
       "SDG14        0.000457\n",
       "SDG8         0.000260\n",
       "SDG5         0.000242"
      ]
     },
     "metadata": {},
     "output_type": "display_data"
    },
    {
     "name": "stdout",
     "output_type": "stream",
     "text": [
      "--------------------\n",
      "Permutation importance\n"
     ]
    },
    {
     "data": {
      "text/html": [
       "<div>\n",
       "<style scoped>\n",
       "    .dataframe tbody tr th:only-of-type {\n",
       "        vertical-align: middle;\n",
       "    }\n",
       "\n",
       "    .dataframe tbody tr th {\n",
       "        vertical-align: top;\n",
       "    }\n",
       "\n",
       "    .dataframe thead th {\n",
       "        text-align: right;\n",
       "    }\n",
       "</style>\n",
       "<table border=\"1\" class=\"dataframe\">\n",
       "  <thead>\n",
       "    <tr style=\"text-align: right;\">\n",
       "      <th></th>\n",
       "      <th>importances</th>\n",
       "    </tr>\n",
       "    <tr>\n",
       "      <th>features</th>\n",
       "      <th></th>\n",
       "    </tr>\n",
       "  </thead>\n",
       "  <tbody>\n",
       "    <tr>\n",
       "      <th>SDG16</th>\n",
       "      <td>0.354235</td>\n",
       "    </tr>\n",
       "    <tr>\n",
       "      <th>SDG9</th>\n",
       "      <td>0.086964</td>\n",
       "    </tr>\n",
       "    <tr>\n",
       "      <th>SDG6</th>\n",
       "      <td>0.020947</td>\n",
       "    </tr>\n",
       "    <tr>\n",
       "      <th>SDG17</th>\n",
       "      <td>0.016379</td>\n",
       "    </tr>\n",
       "    <tr>\n",
       "      <th>SDG12</th>\n",
       "      <td>0.014597</td>\n",
       "    </tr>\n",
       "    <tr>\n",
       "      <th>SDG3</th>\n",
       "      <td>0.009109</td>\n",
       "    </tr>\n",
       "    <tr>\n",
       "      <th>SDG15</th>\n",
       "      <td>0.005366</td>\n",
       "    </tr>\n",
       "    <tr>\n",
       "      <th>SDG1</th>\n",
       "      <td>0.003971</td>\n",
       "    </tr>\n",
       "    <tr>\n",
       "      <th>SDG10</th>\n",
       "      <td>0.003609</td>\n",
       "    </tr>\n",
       "    <tr>\n",
       "      <th>SDG4</th>\n",
       "      <td>0.002750</td>\n",
       "    </tr>\n",
       "    <tr>\n",
       "      <th>SDG2</th>\n",
       "      <td>0.001075</td>\n",
       "    </tr>\n",
       "    <tr>\n",
       "      <th>SDG7</th>\n",
       "      <td>0.000698</td>\n",
       "    </tr>\n",
       "    <tr>\n",
       "      <th>SDG5</th>\n",
       "      <td>0.000296</td>\n",
       "    </tr>\n",
       "    <tr>\n",
       "      <th>SDG11</th>\n",
       "      <td>0.000210</td>\n",
       "    </tr>\n",
       "    <tr>\n",
       "      <th>SDG13</th>\n",
       "      <td>0.000151</td>\n",
       "    </tr>\n",
       "    <tr>\n",
       "      <th>SDG8</th>\n",
       "      <td>0.000095</td>\n",
       "    </tr>\n",
       "    <tr>\n",
       "      <th>SDG14</th>\n",
       "      <td>0.000022</td>\n",
       "    </tr>\n",
       "  </tbody>\n",
       "</table>\n",
       "</div>"
      ],
      "text/plain": [
       "          importances\n",
       "features             \n",
       "SDG16        0.354235\n",
       "SDG9         0.086964\n",
       "SDG6         0.020947\n",
       "SDG17        0.016379\n",
       "SDG12        0.014597\n",
       "SDG3         0.009109\n",
       "SDG15        0.005366\n",
       "SDG1         0.003971\n",
       "SDG10        0.003609\n",
       "SDG4         0.002750\n",
       "SDG2         0.001075\n",
       "SDG7         0.000698\n",
       "SDG5         0.000296\n",
       "SDG11        0.000210\n",
       "SDG13        0.000151\n",
       "SDG8         0.000095\n",
       "SDG14        0.000022"
      ]
     },
     "metadata": {},
     "output_type": "display_data"
    },
    {
     "data": {
      "image/png": "[encoded data removed]",
      "text/plain": [
       "<Figure size 432x288 with 1 Axes>"
      ]
     },
     "metadata": {},
     "output_type": "display_data"
    },
    {
     "data": {
      "image/png": "[encoded data removed]",
      "text/plain": [
       "<Figure size 432x288 with 1 Axes>"
      ]
     },
     "metadata": {},
     "output_type": "display_data"
    }
   ],
   "source": [
    "import xgboost\n",
    "from sklearn.metrics import mean_absolute_error, mean_absolute_percentage_error, mean_squared_error, r2_score\n",
    "\n",
    "xgb_reg = xgboost.XGBRegressor(n_estimators=5, max_depth=10, learning_rate=0.1, random_state=42)\n",
    "xgb_reg.fit(X_train, y_train)\n",
    "\n",
    "y_pred = xgb_reg.predict(X_test)\n",
    "\n",
    "\n",
    "print(\"Coeficiente determinación Train:\", r2_score(y_train, xgb_reg.predict(X_train)))\n",
    "print(\"MAE Train:\", mean_absolute_error(y_train, xgb_reg.predict(X_train)))\n",
    "print(\"MAPE Train:\", mean_absolute_percentage_error(y_train, xgb_reg.predict(X_train)))\n",
    "print(\"MSE Train:\", mean_squared_error(y_train, xgb_reg.predict(X_train)))\n",
    "print(\"RMSE Train:\", np.sqrt(mean_squared_error(y_train, xgb_reg.predict(X_train))))\n",
    "\n",
    "print('-'*20)\n",
    "\n",
    "print(\"Coeficiente determinación Test:\", r2_score(y_test, y_pred))\n",
    "print(\"MAE Test:\", mean_absolute_error(y_test, y_pred))\n",
    "print(\"MAPE Test:\", mean_absolute_percentage_error(y_test, y_pred))\n",
    "print(\"MSE Test:\", mean_squared_error(y_test, y_pred))\n",
    "print(\"RMSE Test:\", np.sqrt(mean_squared_error(y_test, y_pred)))\n",
    "\n",
    "print('-'*20)\n",
    "\n",
    "print('Feature Importance')\n",
    "importances = pd.DataFrame({'features':X_train.columns, 'importances':xgb_reg.feature_importances_}).sort_values('importances', ascending=False)\n",
    "#Visualizamos\n",
    "importances.set_index('features', inplace = True)\n",
    "display(importances)\n",
    "importances.sort_values(\"importances\").plot.barh(y='importances', title = 'Feature Importance')\n",
    "\n",
    "print('-'*20)\n",
    "\n",
    "print('Permutation importance')\n",
    "from sklearn.inspection import permutation_importance\n",
    "\n",
    "permutation_train = permutation_importance(estimator=xgb_reg,\n",
    "                                    X = X_train,\n",
    "                                    y = y_train,\n",
    "                                    n_repeats = 10, #n_repeats = Number of times to permute a feature.\n",
    "                                    random_state=42,\n",
    "                                    scoring=\"r2\")\n",
    "permutation_importances = pd.DataFrame({'features':X_train.columns, 'importances': permutation_train.importances_mean}).sort_values('importances', ascending=False)\n",
    "\n",
    "#Visualizamos\n",
    "permutation_importances.set_index('features', inplace = True)\n",
    "display(permutation_importances)\n",
    "permutation_importances.sort_values(\"importances\").plot.barh(y='importances', title = 'Permutation Importance');\n",
    "\n"
   ]
  },
  {
   "cell_type": "code",
   "execution_count": 64,
   "metadata": {},
   "outputs": [
    {
     "name": "stdout",
     "output_type": "stream",
     "text": [
      "--------------------\n",
      "SHAP (SHapley Additive exPlanations) Importance\n"
     ]
    },
    {
     "data": {
      "image/png": "[encoded data removed]",
      "text/plain": [
       "<Figure size 576x597.6 with 2 Axes>"
      ]
     },
     "metadata": {},
     "output_type": "display_data"
    }
   ],
   "source": [
    "print('-'*20)\n",
    "\n",
    "print('SHAP (SHapley Additive exPlanations) Importance')\n",
    "import shap\n",
    "\n",
    "explainer = shap.TreeExplainer(xgb_reg)\n",
    "shap_values = explainer.shap_values(X_train)\n",
    "\n",
    "shap.summary_plot(shap_values, X_train)"
   ]
  },
  {
   "cell_type": "code",
   "execution_count": 71,
   "metadata": {},
   "outputs": [
    {
     "data": {
      "image/png": "[encoded data removed]",
      "text/plain": [
       "<Figure size 576x136.8 with 2 Axes>"
      ]
     },
     "metadata": {},
     "output_type": "display_data"
    }
   ],
   "source": [
    "shap.summary_plot(shap_values[:,11:12], X_train.iloc[:, 11:12])"
   ]
  },
  {
   "cell_type": "code",
   "execution_count": 70,
   "metadata": {},
   "outputs": [
    {
     "data": {
      "image/png": "[encoded data removed]",
      "text/plain": [
       "<Figure size 576x136.8 with 2 Axes>"
      ]
     },
     "metadata": {},
     "output_type": "display_data"
    }
   ],
   "source": [
    "shap.summary_plot(shap_values[:,9:10], X_train.iloc[:, 9:10])"
   ]
  },
  {
   "cell_type": "markdown",
   "metadata": {},
   "source": [
    "SHAP measures the impact of variables taking into account the interaction with other variables.\n",
    "\n",
    "How to interpret the shap summary plot?\n",
    "* The y-axis indicates the variable name, in order of importance from top to bottom. The value next to them is the mean SHAP value.\n",
    "* On the x-axis is the SHAP value. Indicates how much is the change in log-odds. From this number we can extract the probability of success.\n",
    "* Gradient color indicates the original value for that variable. In booleans, it will take two colors, but in number it can contain the whole spectrum.\n",
    "* Each point represents a row from the original dataset.\n",
    "Going back to the bike dataset, most of the variables are boolean.\n",
    "\n",
    "We can see:\n",
    "1. With lower values of SDG12 and SDG10, Res_Nonhydro_Capita_2021 is higher.\n",
    "2. With higher values of the others, Res_Nonhydro_Capita_2021 is higher. "
   ]
  },
  {
   "cell_type": "markdown",
   "metadata": {},
   "source": [
    "# CONCLUSIÓN\n"
   ]
  },
  {
   "cell_type": "markdown",
   "metadata": {},
   "source": [
    "#### Los mejores son:\n",
    "\n",
    "**XGBRegressor**\n",
    "* xgb_reg = xgboost.XGBRegressor(n_estimators=5, max_depth=10, learning_rate=0.1, random_state=42)\n",
    "* MAE Test: 263.61177574170426\n",
    "\n",
    "**RandomForestRegressor**\n",
    "* rnd_reg = RandomForestRegressor(n_estimators=25, max_leaf_nodes=20, random_state=42)\n",
    "* MAE Test: 282.64984164724916\n",
    "\n"
   ]
  }
 ],
 "metadata": {
  "interpreter": {
   "hash": "a51aa54f9119d77f4708dc3cf3dc70734fc4db61920693d28419361ad838a12b"
  },
  "kernelspec": {
   "display_name": "Python 3.7.4 64-bit",
   "language": "python",
   "name": "python3"
  },
  "language_info": {
   "codemirror_mode": {
    "name": "ipython",
    "version": 3
   },
   "file_extension": ".py",
   "mimetype": "text/x-python",
   "name": "python",
   "nbconvert_exporter": "python",
   "pygments_lexer": "ipython3",
   "version": "3.7.4"
  },
  "orig_nbformat": 4
 },
 "nbformat": 4,
 "nbformat_minor": 2
}

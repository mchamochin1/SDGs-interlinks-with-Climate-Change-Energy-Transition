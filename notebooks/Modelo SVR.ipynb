{
 "cells": [
  {
   "cell_type": "code",
   "execution_count": 34,
   "metadata": {},
   "outputs": [],
   "source": [
    "# Import the required variables\n",
    "import pandas as pd\n",
    "import numpy as np\n",
    "from sklearn.decomposition import PCA\n",
    "from sklearn.preprocessing import StandardScaler\n",
    "from matplotlib import pyplot as plt, style # for ploting\n",
    "import seaborn as sns"
   ]
  },
  {
   "cell_type": "code",
   "execution_count": 6,
   "metadata": {},
   "outputs": [],
   "source": [
    "def warn(*args, **kwargs): pass\n",
    "import warnings\n",
    "warnings.warn = warn"
   ]
  },
  {
   "cell_type": "code",
   "execution_count": 13,
   "metadata": {},
   "outputs": [],
   "source": [
    "def num_plot(df, col, title, symb):\n",
    "    fig, ax = plt.subplots(2, 1, sharex=True, figsize=(8,5),gridspec_kw={\"height_ratios\": (.2, .8)})\n",
    "    ax[0].set_title(title,fontsize=18)\n",
    "    sns.boxplot(x=col, data=df, ax=ax[0])\n",
    "    ax[0].set(yticks=[])\n",
    "    sns.histplot(x=col, data=df, ax=ax[1])\n",
    "    ax[1].set_xlabel(col, fontsize=16)\n",
    "    plt.axvline(df[col].mean(), color='darkgreen', linewidth=2.2, label='mean=' + str(np.round(df[col].mean(),1)) + symb)\n",
    "    plt.axvline(df[col].median(), color='red', linewidth=2.2, label='median='+ str(np.round(df[col].median(),1)) + symb)\n",
    "    plt.axvline(df[col].mode()[0], color='purple', linewidth=2.2, label='mode='+ str(df[col].mode()[0]) + symb)\n",
    "    plt.legend(bbox_to_anchor=(1, 1.03), ncol=1, fontsize=17, fancybox=True, shadow=True, frameon=True)\n",
    "    plt.tight_layout()\n",
    "    plt.show()"
   ]
  },
  {
   "cell_type": "code",
   "execution_count": 14,
   "metadata": {},
   "outputs": [
    {
     "data": {
      "text/plain": [
       "<Figure size 432x288 with 0 Axes>"
      ]
     },
     "metadata": {},
     "output_type": "display_data"
    }
   ],
   "source": [
    "sns.set_style(\"whitegrid\")\n",
    "sns.despine()\n",
    "plt.style.use(\"seaborn-whitegrid\")\n",
    "plt.rc(\"figure\", autolayout=True)\n",
    "plt.rc(\"axes\", labelweight=\"bold\", labelsize=\"large\", titleweight=\"bold\", titlesize=14, titlepad=10)"
   ]
  },
  {
   "cell_type": "code",
   "execution_count": 37,
   "metadata": {},
   "outputs": [],
   "source": [
    "# Import the required variables\n",
    "import pandas as pd\n",
    "import numpy as np\n",
    "\n",
    "# Read the data\n",
    "Res_Nonhydro_Capita = pd.read_excel (\"../data/processed/Res_Nonhydro_Capita.xlsx\", index_col = 0)\n",
    "SDGs_Ranks_2021 = pd.read_excel (\"../data/processed/SDGs_Ranks_2021.xlsx\", index_col = 0)\n",
    "SDGs_Scores_2021 = pd.read_excel (\"../data/processed/SDGs_Scores_2021.xlsx\", index_col = 0)\n",
    "\n",
    "# Only consider the 2021 year\n",
    "Res_Nonhydro_Capita_2021 = Res_Nonhydro_Capita[[2021]]\n",
    "Res_Nonhydro_Capita_2021= Res_Nonhydro_Capita_2021.rename(columns={ 2021: 'Res_Nonhydro_Capita_2021'})\n",
    "\n",
    "# Do not consider the first column\n",
    "SDGs_Ranks_2021 = SDGs_Ranks_2021.iloc[:,1:]\n",
    "SDGs_Scores_2021 = SDGs_Scores_2021.iloc[:,1:]\n",
    "\n",
    "# Append the target to the Datasets\n",
    "SDGs_Ranks_2021 = pd.concat([SDGs_Ranks_2021, Res_Nonhydro_Capita_2021], axis=1)\n",
    "SDGs_Scores_2021 = pd.concat([SDGs_Scores_2021, Res_Nonhydro_Capita_2021], axis=1)"
   ]
  },
  {
   "cell_type": "markdown",
   "metadata": {},
   "source": [
    "# Predicciones - Modelo SVR SDGs_Scores_2021"
   ]
  },
  {
   "cell_type": "code",
   "execution_count": 29,
   "metadata": {},
   "outputs": [
    {
     "name": "stdout",
     "output_type": "stream",
     "text": [
      "MAE_Best 861.3649635710564 C 75 kernel poly degree 5 gamma auto epsilon 0.001\n"
     ]
    }
   ],
   "source": [
    "# Load libraries\n",
    "import numpy as np\n",
    "from sklearn import datasets\n",
    "\n",
    "from sklearn.model_selection import GridSearchCV\n",
    "from sklearn.pipeline import Pipeline\n",
    "from sklearn.svm import SVR\n",
    "from sklearn.preprocessing import StandardScaler\n",
    "\n",
    "from sklearn import metrics\n",
    "\n",
    "from sklearn.model_selection import train_test_split \n",
    "# Set random seed\n",
    "np.random.seed(0)\n",
    "\n",
    "X = SDGs_Scores_2021.drop('Res_Nonhydro_Capita_2021',1)\n",
    "y = SDGs_Scores_2021['Res_Nonhydro_Capita_2021']\n",
    "\n",
    "X_train, X_test, y_train, y_test = train_test_split(X, y, test_size=0.2, random_state=2)\n",
    "\n",
    "std_scale = StandardScaler().fit(X_train)\n",
    "X_train_scaled = std_scale.transform(X_train)\n",
    "X_test_scaled = std_scale.transform(X_test)\n",
    "\n",
    "maxC = [0.01, 0.1, 0.3, 0.5, 1.0, 3, 5.0, 15, 30, 50, 75, 100] # Parametro de regularizacion\n",
    "maxKernel = [\"linear\",\"poly\",\"rbf\"] # Tipo de kernel, probar varios\n",
    "maxDegree = [2,3,4,5] # Cuantos grados queremos para el kernel polinomico\n",
    "maxGamma = [0.001, 0.1, \"auto\", \"scale\", 1.0, 10.0, 30.0] # Coeficiente de regulaizacion para los kernels rbf, poly y sigmoid\n",
    "maxEpsilon = [0.001, 0.1, 0.5, 1.0, 1.5]\n",
    "\n",
    "n = 0\n",
    "for Ci in maxC:\n",
    "    for kerneli in maxKernel:\n",
    "        for degreei in maxDegree:\n",
    "            for gammai in maxGamma:\n",
    "                for epsiloni in maxEpsilon:\n",
    "                    svm_reg = SVR(kernel=kerneli, degree=degreei, C=Ci, epsilon = epsiloni, gamma= gammai)\n",
    "                    svm_reg.fit(X_train_scaled, y_train)\n",
    "                    predictions = svm_reg.predict(X_test_scaled)\n",
    "                    if (n == 0): # The first time initialize\n",
    "                        MAE_Best = metrics.mean_absolute_error(y_test, predictions)\n",
    "                        maxC_Best = Ci\n",
    "                        maxKernel_Best = kerneli\n",
    "                        maxDegree_Best = degreei\n",
    "                        maxGamma_Best = gammai\n",
    "                        maxEpsilon_Best = epsiloni\n",
    "                    else:\n",
    "                        MAE_New = metrics.mean_absolute_error(y_test, predictions)\n",
    "                        if (MAE_New < MAE_Best):\n",
    "                            MAE_Best = MAE_New\n",
    "                            maxC_Best = Ci\n",
    "                            maxKernel_Best = kerneli\n",
    "                            maxDegree_Best = degreei\n",
    "                            maxGamma_Best = gammai\n",
    "                            maxEpsilon_Best = epsiloni\n",
    "                        else:\n",
    "                            pass\n",
    "    n +=1\n",
    "print('MAE_Best', MAE_Best, \n",
    "        'C', maxC_Best, \n",
    "        'kernel', maxKernel_Best,\n",
    "        'degree', maxDegree_Best,\n",
    "        'gamma', maxGamma_Best,\n",
    "        'epsilon',maxEpsilon_Best)\n"
   ]
  },
  {
   "cell_type": "code",
   "execution_count": 38,
   "metadata": {},
   "outputs": [
    {
     "name": "stdout",
     "output_type": "stream",
     "text": [
      "Coeficiente determinación Train: 0.6065170454548635\n",
      "MAE Train: 296.0185196143277\n",
      "MAPE Train: 3.572314917506691e+16\n",
      "MSE Train: 258661.46977643334\n",
      "RMSE Train: 508.5877208274236\n",
      "--------------------\n",
      "Coeficiente determinación Test: 0.0036455117215157262\n",
      "MAE Test: 870.4226709347624\n",
      "MAPE Test: 34.66293972823645\n",
      "MSE Test: 9438692.707521591\n",
      "RMSE Test: 3072.245548051391\n"
     ]
    }
   ],
   "source": [
    "from sklearn import metrics\n",
    "\n",
    "svm_reg = SVR(kernel='poly', degree=5, C=75, epsilon = 0.001, gamma= 'auto')\n",
    "svm_reg.fit(X_train_scaled, y_train)\n",
    "predictions = svm_reg.predict(X_test_scaled)\n",
    "\n",
    "print(\"Coeficiente determinación Train:\", metrics.r2_score(y_train, svm_reg.predict(X_train_scaled)))\n",
    "print(\"MAE Train:\", metrics.mean_absolute_error(y_train, svm_reg.predict(X_train_scaled)))\n",
    "print(\"MAPE Train:\", metrics.mean_absolute_percentage_error(y_train, svm_reg.predict(X_train_scaled)))\n",
    "print(\"MSE Train:\", metrics.mean_squared_error(y_train, svm_reg.predict(X_train_scaled)))\n",
    "print(\"RMSE Train:\", np.sqrt(metrics.mean_squared_error(y_train, svm_reg.predict(X_train_scaled))))\n",
    "\n",
    "print('-'*20)\n",
    "\n",
    "print(\"Coeficiente determinación Test:\", metrics.r2_score(y_test, predictions))\n",
    "print(\"MAE Test:\", metrics.mean_absolute_error(y_test, predictions))\n",
    "print(\"MAPE Test:\", metrics.mean_absolute_percentage_error(y_test, predictions))\n",
    "print(\"MSE Test:\", metrics.mean_squared_error(y_test, predictions))\n",
    "print(\"RMSE Test:\", np.sqrt(metrics.mean_squared_error(y_test, predictions)))\n"
   ]
  },
  {
   "cell_type": "markdown",
   "metadata": {},
   "source": [
    "# Predicciones - Modelo Decission Trees SDGs_Ranks_2021"
   ]
  },
  {
   "cell_type": "code",
   "execution_count": 32,
   "metadata": {},
   "outputs": [
    {
     "name": "stdout",
     "output_type": "stream",
     "text": [
      "MAE_Best 859.7111983693998 C 100 kernel poly degree 5 gamma auto epsilon 0.1\n"
     ]
    }
   ],
   "source": [
    "# Load libraries\n",
    "import numpy as np\n",
    "from sklearn import datasets\n",
    "\n",
    "from sklearn.model_selection import GridSearchCV\n",
    "from sklearn.pipeline import Pipeline\n",
    "from sklearn.svm import SVR\n",
    "from sklearn.preprocessing import StandardScaler\n",
    "\n",
    "from sklearn import metrics\n",
    "\n",
    "from sklearn.model_selection import train_test_split \n",
    "# Set random seed\n",
    "np.random.seed(0)\n",
    "\n",
    "X = SDGs_Ranks_2021.drop('Res_Nonhydro_Capita_2021',1)\n",
    "y = SDGs_Ranks_2021['Res_Nonhydro_Capita_2021']\n",
    "\n",
    "X_train, X_test, y_train, y_test = train_test_split(X, y, test_size=0.2, random_state=2)\n",
    "\n",
    "std_scale = StandardScaler().fit(X_train)\n",
    "X_train_scaled = std_scale.transform(X_train)\n",
    "X_test_scaled = std_scale.transform(X_test)\n",
    "\n",
    "maxC = [0.01, 0.1, 0.3, 0.5, 1.0, 3, 5.0, 15, 30, 50, 75, 100] # Parametro de regularizacion\n",
    "maxKernel = [\"linear\",\"poly\",\"rbf\"] # Tipo de kernel, probar varios\n",
    "maxDegree = [2,3,4,5] # Cuantos grados queremos para el kernel polinomico\n",
    "maxGamma = [0.001, 0.1, \"auto\", \"scale\", 1.0, 10.0, 30.0] # Coeficiente de regulaizacion para los kernels rbf, poly y sigmoid\n",
    "maxEpsilon = [0.001, 0.1, 0.5, 1.0, 1.5]\n",
    "\n",
    "n = 0\n",
    "for Ci in maxC:\n",
    "    for kerneli in maxKernel:\n",
    "        for degreei in maxDegree:\n",
    "            for gammai in maxGamma:\n",
    "                for epsiloni in maxEpsilon:\n",
    "                    svm_reg = SVR(kernel=kerneli, degree=degreei, C=Ci, epsilon = epsiloni, gamma= gammai)\n",
    "                    svm_reg.fit(X_train_scaled, y_train)\n",
    "                    predictions = svm_reg.predict(X_test_scaled)\n",
    "                    if (n == 0): # The first time initialize\n",
    "                        MAE_Best = metrics.mean_absolute_error(y_test, predictions)\n",
    "                        maxC_Best = Ci\n",
    "                        maxKernel_Best = kerneli\n",
    "                        maxDegree_Best = degreei\n",
    "                        maxGamma_Best = gammai\n",
    "                        maxEpsilon_Best = epsiloni\n",
    "                    else:\n",
    "                        MAE_New = metrics.mean_absolute_error(y_test, predictions)\n",
    "                        if (MAE_New < MAE_Best):\n",
    "                            MAE_Best = MAE_New\n",
    "                            maxC_Best = Ci\n",
    "                            maxKernel_Best = kerneli\n",
    "                            maxDegree_Best = degreei\n",
    "                            maxGamma_Best = gammai\n",
    "                            maxEpsilon_Best = epsiloni\n",
    "                        else:\n",
    "                            pass\n",
    "    n +=1\n",
    "print('MAE_Best', MAE_Best, \n",
    "        'C', maxC_Best, \n",
    "        'kernel', maxKernel_Best,\n",
    "        'degree', maxDegree_Best,\n",
    "        'gamma', maxGamma_Best,\n",
    "        'epsilon',maxEpsilon_Best)"
   ]
  },
  {
   "cell_type": "code",
   "execution_count": 43,
   "metadata": {},
   "outputs": [
    {
     "name": "stdout",
     "output_type": "stream",
     "text": [
      "Coeficiente determinación Train: 0.6385358496074564\n",
      "MAE Train: 276.61215277072716\n",
      "MAPE Train: 3.779046786174788e+16\n",
      "MSE Train: 237613.46541708976\n",
      "RMSE Train: 487.45611640135337\n",
      "--------------------\n",
      "Coeficiente determinación Test: -0.004432682249981168\n",
      "MAE Test: 859.7111983693998\n",
      "MAPE Test: 42.124431988569135\n",
      "MSE Test: 9515219.276554722\n",
      "RMSE Test: 3084.674906137553\n",
      "--------------------\n"
     ]
    }
   ],
   "source": [
    "from sklearn import metrics\n",
    "\n",
    "svm_reg = SVR(kernel='poly', degree=5, C=100, epsilon = 0.1, gamma= 'auto')\n",
    "svm_reg.fit(X_train_scaled, y_train)\n",
    "predictions = svm_reg.predict(X_test_scaled)\n",
    "\n",
    "print(\"Coeficiente determinación Train:\", metrics.r2_score(y_train, svm_reg.predict(X_train_scaled)))\n",
    "print(\"MAE Train:\", metrics.mean_absolute_error(y_train, svm_reg.predict(X_train_scaled)))\n",
    "print(\"MAPE Train:\", metrics.mean_absolute_percentage_error(y_train, svm_reg.predict(X_train_scaled)))\n",
    "print(\"MSE Train:\", metrics.mean_squared_error(y_train, svm_reg.predict(X_train_scaled)))\n",
    "print(\"RMSE Train:\", np.sqrt(metrics.mean_squared_error(y_train, svm_reg.predict(X_train_scaled))))\n",
    "\n",
    "print('-'*20)\n",
    "\n",
    "print(\"Coeficiente determinación Test:\", metrics.r2_score(y_test, predictions))\n",
    "print(\"MAE Test:\", metrics.mean_absolute_error(y_test, predictions))\n",
    "print(\"MAPE Test:\", metrics.mean_absolute_percentage_error(y_test, predictions))\n",
    "print(\"MSE Test:\", metrics.mean_squared_error(y_test, predictions))\n",
    "print(\"RMSE Test:\", np.sqrt(metrics.mean_squared_error(y_test, predictions)))\n",
    "\n",
    "print('-'*20)\n"
   ]
  },
  {
   "cell_type": "markdown",
   "metadata": {},
   "source": [
    "# CONCLUSIÓN\n",
    "\n",
    "# Los dos modelos resultan semejantes - NO SON BUENOS\n",
    "\n",
    "SDGs_Scores_2021\n",
    "* Coeficiente determinación Test: 0.10227851844619062\n",
    "* MAE Test: 861.3649635710564\n",
    "* MAPE Test: 51.95503962009982\n",
    "* MSE Test: 8504319.7988376\n",
    "* RMSE Test: 2916.2166927095113\n",
    "\n",
    "SDGs_Ranks_2021\n",
    "* Coeficiente determinación Test: -0.004432682249981168\n",
    "* MAE Test: 859.7111983693998\n",
    "* MAPE Test: 42.124431988569135\n",
    "* MSE Test: 9515219.276554722\n",
    "* RMSE Test: 3084.674906137553"
   ]
  }
 ],
 "metadata": {
  "interpreter": {
   "hash": "a51aa54f9119d77f4708dc3cf3dc70734fc4db61920693d28419361ad838a12b"
  },
  "kernelspec": {
   "display_name": "Python 3.7.4 64-bit",
   "language": "python",
   "name": "python3"
  },
  "language_info": {
   "codemirror_mode": {
    "name": "ipython",
    "version": 3
   },
   "file_extension": ".py",
   "mimetype": "text/x-python",
   "name": "python",
   "nbconvert_exporter": "python",
   "pygments_lexer": "ipython3",
   "version": "3.7.4"
  },
  "orig_nbformat": 4
 },
 "nbformat": 4,
 "nbformat_minor": 2
}
